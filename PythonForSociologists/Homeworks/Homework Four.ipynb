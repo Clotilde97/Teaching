{
 "cells": [
  {
   "cell_type": "markdown",
   "metadata": {},
   "source": [
    "# Python for Sociologists: Homework Four\n",
    "\n",
    "You are expected to at least attempt all of the three questions below. Again, while this isn't a pass/fail course, your progression to OII modules requires that you submit something. Becuse there are slightly fewer, longer questions here, each question carries an equal weight of *FOUR* points. If you get the correct answer, you recieve 4 points, if you have a very good attempt, you'll get 3 a less good attempt will get 2, and a shoddy attempt will get 1. Notebooks will be returned via email with feedback."
   ]
  },
  {
   "cell_type": "markdown",
   "metadata": {},
   "source": [
    "## Question One. Building a function\n",
    "\n",
    "phrase_one = \"well here we are\"\n",
    "\n",
    "phrase_two = \"back in the hot muggy streets of new york\"\n",
    "\n",
    "Using a function, count the number of unique letters in each phrase. "
   ]
  },
  {
   "cell_type": "code",
   "execution_count": 1,
   "metadata": {
    "collapsed": true
   },
   "outputs": [],
   "source": [
    "# Answer here"
   ]
  },
  {
   "cell_type": "markdown",
   "metadata": {},
   "source": [
    "### Question Two. Refactoring Code\n",
    "\n",
    "This code is too repetitive. Use a function to eliminate the repetition. \n",
    "\n",
    "```python\n",
    "bands=[\"black sabbath\",\"megadeath\", \"mogwai\", \"GY!BE\"]\n",
    "\n",
    "tweet1 = \"I really prefer black sabbath to other heavy metal bands like megadeath.\"\n",
    "\n",
    "band_mentions = 0\n",
    "for i in bands:\n",
    "    if i in tweet1:\n",
    "       band_mentions += 1\n",
    "\n",
    "print(\"In the tweet:\\n\\n%s\\n\\nThere were %s mentions of the %s bands examined.\" % (tweet1,band_mentions,len(bands)))\n",
    "\n",
    "tweet2 = \"Early mogwai is the finest postrock, but everything after 2003 is totally rubbish.\"\n",
    "\n",
    "band_mentions = 0\n",
    "for i in bands:\n",
    "    if i in tweet2:\n",
    "       band_mentions += 1\n",
    "\n",
    "print(\"In the tweet:\\n\\n%s\\n\\nThere were %s mentions of the %s bands examined.\" % (tweet2,band_mentions,len(bands)))\n",
    "\n",
    "tweet3 = \"In general, GY!BE are a better band than Mogwwai..\"\n",
    "\n",
    "band_mentions = 0\n",
    "for i in bands:\n",
    "    if i in tweet3:\n",
    "       band_mentions += 1\n",
    "\n",
    "print(\"In the tweet:\\n\\n%s\\n\\nThere were %s mentions of the %s bands examined.\" % (tweet3,band_mentions,len(bands)))\n",
    "```"
   ]
  },
  {
   "cell_type": "code",
   "execution_count": 2,
   "metadata": {},
   "outputs": [
    {
     "name": "stdout",
     "output_type": "stream",
     "text": [
      "In the tweet:\n",
      "\n",
      "I really prefer black sabbath to other heavy metal bands like megadeath.\n",
      "\n",
      "There were 2 mentions of the 4 bands examined.\n",
      "In the tweet:\n",
      "\n",
      "Early mogwai is the finest postrock, but everything after 2003 is totally rubbish.\n",
      "\n",
      "There were 1 mentions of the 4 bands examined.\n",
      "In the tweet:\n",
      "\n",
      "In general, GY!BE are a better band than Mogwwai..\n",
      "\n",
      "There were 1 mentions of the 4 bands examined.\n"
     ]
    }
   ],
   "source": [
    "# Answer here"
   ]
  },
  {
   "cell_type": "markdown",
   "metadata": {},
   "source": [
    "## Question Three: Building a complex function \n",
    "\n",
    "Construct a function that returns the ingredients for a *great* meal.\n",
    " \n",
    "```python\n",
    "def my_perfect_dinner(...):\n",
    "    ... code to create some delicious eats ... \n",
    "    return output\n",
    "```\n",
    "\n",
    "As a minimum, function inputs should include a drink of your choice, a starter and a main course. If you want to make something like a pizza or sandwich, you will need to specify your toppings or fillings (as a list?). At least some of the function inputs should be non-default!\n",
    "\n",
    "For the output, you have two choices: i.) get the function to print out a menu or ingredients list, or ii.) return drink+starter+main and print them after the function calls."
   ]
  },
  {
   "cell_type": "code",
   "execution_count": 3,
   "metadata": {
    "collapsed": true
   },
   "outputs": [],
   "source": [
    "# Answer here"
   ]
  },
  {
   "cell_type": "markdown",
   "metadata": {},
   "source": [
    "## Question Four: Reading, writing and more function calls\n",
    "\n",
    "Take the following phrase: \"it's a light in the dark, only enough to keep from giving up\". Write this phrase to a file, and then read and run it through the ```remove_a_letter``` function below, so that it removes a letter one by one. ```print``` the new phrase out one line at a time (hint: use a ```while```), and dont forget to close the file!\n",
    "\n",
    "```python\n",
    "import random\n",
    "def remove_a_letter(phrase):\n",
    "    index = random.randint(0,len(phrase)-1)\n",
    "    newphrase = phrase.replace(phrase[index],\"\")\n",
    "    return newphrase \n",
    "```"
   ]
  },
  {
   "cell_type": "code",
   "execution_count": 4,
   "metadata": {
    "collapsed": true
   },
   "outputs": [],
   "source": [
    "# Answer here"
   ]
  },
  {
   "cell_type": "markdown",
   "metadata": {},
   "source": [
    " ## Question Five: Counting lines\n",
    " \n",
    " Save the following Taylor Swift verse as a text file:\n",
    "\n",
    "```python\n",
    "taylorswift=\"I dont trust nobody\\n\n",
    "and nobody trusts me\\n\n",
    "Ill be the actress\\n\n",
    "starring in your bad dreams\"\n",
    "```\n",
    "\n",
    "Then read it in, and count the number of lines programatically. For all 5 points, can you figure out how to do it as a one-liner?"
   ]
  },
  {
   "cell_type": "code",
   "execution_count": 5,
   "metadata": {
    "collapsed": true
   },
   "outputs": [],
   "source": [
    "# Answer here"
   ]
  }
 ],
 "metadata": {
  "kernelspec": {
   "display_name": "Python 3",
   "language": "python",
   "name": "python3"
  },
  "language_info": {
   "codemirror_mode": {
    "name": "ipython",
    "version": 3
   },
   "file_extension": ".py",
   "mimetype": "text/x-python",
   "name": "python",
   "nbconvert_exporter": "python",
   "pygments_lexer": "ipython3",
   "version": "3.6.3"
  }
 },
 "nbformat": 4,
 "nbformat_minor": 1
}
