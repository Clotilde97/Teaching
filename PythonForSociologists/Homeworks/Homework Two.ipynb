{
 "cells": [
  {
   "cell_type": "markdown",
   "metadata": {},
   "source": [
    "# Python for Sociologists: Homework Two\n",
    "\n",
    "You are expected to at least attempt all of the ten questions below. Again, while this isn't a pass/fail course, your progression to OII modules requires that you submit something. Each question carries an equal weight of two points. If you get the correct answer, you recieve 2 points, if you have a good attempt, you'll get one, and a shoddy attempt will get nil. Notebooks will be returned via email with feedback."
   ]
  },
  {
   "cell_type": "markdown",
   "metadata": {},
   "source": [
    "## Question One: Len\n",
    "\n",
    "Split wrong phrase into words. How many words are in this phrase?\n",
    "\n",
    "```python\n",
    "pokemon='Alakazam! use your pyschic attack!'\n",
    "```"
   ]
  },
  {
   "cell_type": "code",
   "execution_count": null,
   "metadata": {
    "collapsed": true
   },
   "outputs": [],
   "source": [
    "# Answer here"
   ]
  },
  {
   "cell_type": "markdown",
   "metadata": {},
   "source": [
    "## Question Two: Letters in set\n",
    "\n",
    "Here are two lines of lyrics to a great song:\n",
    "\n",
    "```python\n",
    "nownow1=\"Stuck like those prehistoric mammoths in the ice\"\n",
    "nownow2=\"Thaw me out and I won't close my eyes\"\n",
    "```\n",
    "\n",
    "Using a set, count the number of unique letters in nownow1. S and s should count as the same. "
   ]
  },
  {
   "cell_type": "code",
   "execution_count": null,
   "metadata": {
    "collapsed": true
   },
   "outputs": [],
   "source": [
    "# Answer here"
   ]
  },
  {
   "cell_type": "markdown",
   "metadata": {},
   "source": [
    "## Question Three: Overlapping Sets\n",
    "\n",
    "Print the letters that are in nownow1 and nownow2"
   ]
  },
  {
   "cell_type": "code",
   "execution_count": null,
   "metadata": {
    "collapsed": true
   },
   "outputs": [],
   "source": [
    "# Answer here"
   ]
  },
  {
   "cell_type": "markdown",
   "metadata": {},
   "source": [
    "## Question Four: Overlapping Sets\n",
    "\n",
    "```python\n",
    "wrongphrase = \"The slow red fox sat by the friendly dog\"\n",
    "```\n",
    "\n",
    "Print the right phrase (\"The quick brown fox jumps over the lazy dog\") by splitting, replacing the wrong words with the right ones, and then joining"
   ]
  },
  {
   "cell_type": "code",
   "execution_count": null,
   "metadata": {
    "collapsed": true
   },
   "outputs": [],
   "source": [
    "# Answer here"
   ]
  },
  {
   "cell_type": "markdown",
   "metadata": {},
   "source": [
    "## Question Five: Overlapping Sets\n",
    " \n",
    "```python\n",
    "practicethis = \"The object of this lesson is to internalise the notes and the keys; in other words, it should become like a reflex for you to see the note on the page and immediately play that appropriate key, in the same way that you see a letter in a word, and immediately visualise the pronounciation.\"\n",
    "```\n",
    "Loop through [the words](https://soundcloud.com/leahkardos/leah-kardos-dface-practice): if the word starts with an 'a' print it."
   ]
  },
  {
   "cell_type": "code",
   "execution_count": null,
   "metadata": {
    "collapsed": true
   },
   "outputs": [],
   "source": [
    "# Answer here"
   ]
  },
  {
   "cell_type": "markdown",
   "metadata": {},
   "source": [
    "## Question Six: Dictionary Replacement\n",
    "\n",
    "wrongphrase = \"I am called Sabrina and I am a witch and my black cat is called Salem\"\n",
    "```python\n",
    "otherwords = {\n",
    "    \"Sabrina\":\"Charlie\",\n",
    "    \"witch\":\"data scientist\",\n",
    "    \"black\":\"white\",\n",
    "    \"Salem\":\"Moonpie\",\n",
    "}\n",
    "```\n",
    "Print the correct phrase using the dictionary to replace the wrong words with the right ones. This will require you to split the phrase, use the dictionary above to replace the words. Then join the phrase together, then print it. (please feel free to change the dictionary values to anything you like!)"
   ]
  },
  {
   "cell_type": "code",
   "execution_count": 3,
   "metadata": {
    "collapsed": true
   },
   "outputs": [],
   "source": [
    "# Answer here"
   ]
  },
  {
   "cell_type": "markdown",
   "metadata": {},
   "source": [
    "## Question Seven: For loops and if conditions\n",
    "\n",
    "The for loop below will run 10 times generating a random number each time. If the number is odd, multiply the number by two and then print a warning and the number on the same line. If the number is greater than 4, you should also print some words of wisdom on the same line as the (new) number. \n",
    "\n",
    "```python\n",
    "import random\n",
    "for i in range(10):\n",
    "    rando = random.randint(0,9)\n",
    "```"
   ]
  },
  {
   "cell_type": "code",
   "execution_count": null,
   "metadata": {
    "collapsed": true
   },
   "outputs": [],
   "source": [
    "# Answer here"
   ]
  },
  {
   "cell_type": "markdown",
   "metadata": {},
   "source": [
    "## Question Eight: For loops and if conditions\n",
    "\n",
    "Print a number UNLESS it has already been printed:\n",
    "\n",
    "```python\n",
    "import random\n",
    "for i in range(10):\n",
    "    rando = random.randint(0,9)\n",
    "    ```"
   ]
  },
  {
   "cell_type": "code",
   "execution_count": null,
   "metadata": {
    "collapsed": true
   },
   "outputs": [],
   "source": [
    "# Answer here"
   ]
  }
 ],
 "metadata": {
  "kernelspec": {
   "display_name": "Python [Root]",
   "language": "python",
   "name": "Python [Root]"
  },
  "language_info": {
   "codemirror_mode": {
    "name": "ipython",
    "version": 3
   },
   "file_extension": ".py",
   "mimetype": "text/x-python",
   "name": "python",
   "nbconvert_exporter": "python",
   "pygments_lexer": "ipython3",
   "version": "3.5.2"
  }
 },
 "nbformat": 4,
 "nbformat_minor": 0
}
