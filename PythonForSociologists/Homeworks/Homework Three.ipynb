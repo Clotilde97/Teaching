{
 "cells": [
  {
   "cell_type": "markdown",
   "metadata": {},
   "source": [
    "# Homework Three\n",
    "\n",
    "You are expected to at least attempt all of the ten questions below. Again, while this isn't a pass/fail course, your progression to OII modules requires that you submit *something*. Beacuse there are slightly fewer, longer questions here, each question carries an equal weight of THREE points. If you get the correct answer, you recieve 3 points, if you have a very good attempt, you'll get 2, a less good attempt will get 1, and a shoddy or non-attempt will get nil. Notebooks will be returned via email with feedback."
   ]
  },
  {
   "cell_type": "markdown",
   "metadata": {},
   "source": [
    "### Question One: List Comprehension\n",
    "\n",
    "Write the following as a list comprehension:\n",
    "\n",
    "```python\n",
    "pwrs = []\n",
    "for i in range(0,10):\n",
    "    pwrs.append(i**i)\n",
    "print(pwrs)    \n",
    "```"
   ]
  },
  {
   "cell_type": "code",
   "execution_count": 1,
   "metadata": {
    "collapsed": false
   },
   "outputs": [],
   "source": [
    "# Answer here"
   ]
  },
  {
   "cell_type": "markdown",
   "metadata": {},
   "source": [
    "### Question Two: List Comprehension Cont\n",
    "\n",
    "Tweet = \"Who’s Who study sheds new light on power of old boy network - great study by @SamFriedmanSoc @aaronsreeves @LSEnews\"\n",
    "\n",
    "```python\n",
    "AtMentions = []\n",
    "for i in Tweet.split():\n",
    "    if i[0] == '@':\n",
    "        AtMentions.append(i)\n",
    "print(AtMentions)\n",
    "```"
   ]
  },
  {
   "cell_type": "code",
   "execution_count": 2,
   "metadata": {
    "collapsed": true
   },
   "outputs": [],
   "source": [
    "# Answer here"
   ]
  },
  {
   "cell_type": "markdown",
   "metadata": {},
   "source": [
    "### Question Three: While loops\n",
    "    \n",
    "Write a spaceshit launch style countdown timer using while. The program should:\n",
    "\n",
    "1. Take a number as input.\n",
    "2. Check that the user input is a number.\n",
    "3. Countdown to zero\n",
    "4. Blastoff!"
   ]
  },
  {
   "cell_type": "code",
   "execution_count": 3,
   "metadata": {
    "collapsed": true
   },
   "outputs": [],
   "source": [
    "# Answer here"
   ]
  },
  {
   "cell_type": "markdown",
   "metadata": {},
   "source": [
    "### Question Four. Building a function\n",
    "\n",
    "phrase_one = \"well here we are\"\n",
    "\n",
    "phrase_two = \"back in the hot muggy streets of new york\"\n",
    "\n",
    "Using a function, count the number of unique letters in each phrase. "
   ]
  },
  {
   "cell_type": "code",
   "execution_count": 4,
   "metadata": {
    "collapsed": true
   },
   "outputs": [],
   "source": [
    "# Answer here"
   ]
  },
  {
   "cell_type": "markdown",
   "metadata": {},
   "source": [
    "### Question Five. Psuedocode\n",
    "\n",
    "Write the following as pseudocode:\n",
    "    \n",
    "```python\n",
    "def power_of_two(maxnumber):\n",
    "    powers_of_two_list = []\n",
    "   \n",
    "    for i in range(0,maxnumber):\n",
    "        if int(i**.5) == i**.5:\n",
    "            powers_of_two_list.append(i)\n",
    "    \n",
    "    return powers_of_two_list\n",
    "\n",
    "print(\"This program will print all square numbers from 0 to your maximum number.\")\n",
    "a = input(\"Please enter a maximum number: \")\n",
    "\n",
    "powers_list = []\n",
    "\n",
    "try:\n",
    "    if int(a):\n",
    "        print(power_of_two(int(a)))\n",
    "\n",
    "except ValueError:\n",
    "    print(\"You did not enter a valid integer.\")\n",
    "```"
   ]
  },
  {
   "cell_type": "code",
   "execution_count": 5,
   "metadata": {
    "collapsed": true
   },
   "outputs": [],
   "source": [
    "# Answer here"
   ]
  },
  {
   "cell_type": "markdown",
   "metadata": {},
   "source": [
    "### Question Six. Refactoring Code\n",
    "\n",
    "This code is too repetitive. Use a function to eliminate the repetition. \n",
    "\n",
    "```python\n",
    "bands=[\"black sabbath\",\"megadeath\", \"mogwai\", \"GY!BE\"]\n",
    "\n",
    "tweet1 = \"I really prefer black sabbath to other heavy metal bands like megadeath.\"\n",
    "\n",
    "band_mentions = 0\n",
    "for i in bands:\n",
    "    if i in tweet1:\n",
    "       band_mentions += 1\n",
    "\n",
    "print(\"In the tweet:\\n\\n%s\\n\\nThere were %s mentions of the %s bands examined.\" % (tweet1,band_mentions,len(bands)))\n",
    "\n",
    "tweet2 = \"Early mogwai is the finest postrock, but everything after 2003 is totally rubbish.\"\n",
    "\n",
    "band_mentions = 0\n",
    "for i in bands:\n",
    "    if i in tweet2:\n",
    "       band_mentions += 11\n",
    "\n",
    "print(\"In the tweet:\\n\\n%s\\n\\nThere were %s mentions of the %s bands examined.\" % (tweet2,band_mentions,len(bands)))\n",
    "\n",
    "tweet3 = \"In general, GY!BE are a better band than Mogwwai..\"\n",
    "\n",
    "band_mentions = 0\n",
    "for i in bands:\n",
    "    if i in tweet3:\n",
    "       band_mentions += 11\n",
    "\n",
    "print(\"In the tweet:\\n\\n%s\\n\\nThere were %s mentions of the %s bands examined.\" % (tweet3,band_mentions,len(bands)))\n",
    "```"
   ]
  },
  {
   "cell_type": "code",
   "execution_count": 6,
   "metadata": {
    "collapsed": true
   },
   "outputs": [],
   "source": [
    "# Answer here"
   ]
  }
 ],
 "metadata": {
  "kernelspec": {
   "display_name": "Python [Root]",
   "language": "python",
   "name": "Python [Root]"
  },
  "language_info": {
   "codemirror_mode": {
    "name": "ipython",
    "version": 3
   },
   "file_extension": ".py",
   "mimetype": "text/x-python",
   "name": "python",
   "nbconvert_exporter": "python",
   "pygments_lexer": "ipython3",
   "version": "3.5.2"
  }
 },
 "nbformat": 4,
 "nbformat_minor": 1
}
