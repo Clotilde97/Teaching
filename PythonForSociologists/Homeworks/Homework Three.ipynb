{
 "cells": [
  {
   "cell_type": "markdown",
   "metadata": {},
   "source": [
    "# Homework Three\n",
    "\n",
    "You are expected to at least attempt all of the ten questions below. Again, while this isn't a pass/fail course, your progression to OII modules requires that you submit *something*. Becuse there are slightly fewer, longer questions here, each question carries an equal weight of *FOUR* points. If you get the correct answer, you recieve 4 points, if you have a very good attempt, you'll get 3 a less good attempt will get 2, and a shoddy attempt will get 1. Notebooks will be returned via email with feedback."
   ]
  },
  {
   "cell_type": "markdown",
   "metadata": {},
   "source": [
    "### Question One: List Comprehension\n",
    "\n",
    "Write the following as a list comprehension:\n",
    "\n",
    "```python\n",
    "pwrs = []\n",
    "for i in range(0,10):\n",
    "    pwrs.append(i**i)\n",
    "print(pwrs)    \n",
    "```"
   ]
  },
  {
   "cell_type": "code",
   "execution_count": 1,
   "metadata": {
    "collapsed": true
   },
   "outputs": [],
   "source": [
    "# Answer here"
   ]
  },
  {
   "cell_type": "markdown",
   "metadata": {},
   "source": [
    "### Question Two: List Comprehension Cont\n",
    "\n",
    "Write the following as a list comprehension which contains an if condition:\n",
    "\n",
    "```\n",
    "Tweet = \"Who’s Who study sheds new light on power of old boy network - great study by @SamFriedmanSoc @aaronsreeves @LSEnews\"\n",
    "```\n",
    "\n",
    "```python\n",
    "AtMentions = []\n",
    "for i in Tweet.split():\n",
    "    if i[0] == '@':\n",
    "        AtMentions.append(i)\n",
    "print(AtMentions)\n",
    "```"
   ]
  },
  {
   "cell_type": "code",
   "execution_count": 2,
   "metadata": {
    "collapsed": true
   },
   "outputs": [],
   "source": [
    "# Answer here"
   ]
  },
  {
   "cell_type": "markdown",
   "metadata": {},
   "source": [
    "### Question Three: While loops\n",
    "    \n",
    "Write a spaceship launch style countdown timer using while. The program should:\n",
    "\n",
    "1. Take a number as input.\n",
    "2. Check that the user input is a number.\n",
    "3. Countdown to zero\n",
    "4. Blastoff!"
   ]
  },
  {
   "cell_type": "code",
   "execution_count": 3,
   "metadata": {
    "collapsed": true
   },
   "outputs": [],
   "source": [
    "# Answer here"
   ]
  },
  {
   "cell_type": "markdown",
   "metadata": {},
   "source": [
    "### Question Four. Psuedocode\n",
    "\n",
    "Write the following as pseudocode:\n",
    "    \n",
    "```python\n",
    "def square_numbers(maxnumber):\n",
    "    square_numbers_list = []\n",
    "   \n",
    "    for i in range(0,maxnumber):\n",
    "        if int(i**.5) == i**.5:\n",
    "            square_numbers_list.append(i)\n",
    "    \n",
    "    return square_numbers_list\n",
    "\n",
    "print(\"This program will print all square numbers from 0 to your maximum number.\")\n",
    "a = input(\"Please enter a maximum number: \")\n",
    "\n",
    "square_numbers_list = []\n",
    "\n",
    "try:\n",
    "    if int(a):\n",
    "        print(square_numbers(int(a)))\n",
    "\n",
    "except ValueError:\n",
    "    print(\"You did not enter a valid integer.\")\n",
    "```"
   ]
  },
  {
   "cell_type": "code",
   "execution_count": 4,
   "metadata": {
    "collapsed": true
   },
   "outputs": [],
   "source": [
    "# Answer here"
   ]
  }
 ],
 "metadata": {
  "kernelspec": {
   "display_name": "Python 3",
   "language": "python",
   "name": "python3"
  },
  "language_info": {
   "codemirror_mode": {
    "name": "ipython",
    "version": 3
   },
   "file_extension": ".py",
   "mimetype": "text/x-python",
   "name": "python",
   "nbconvert_exporter": "python",
   "pygments_lexer": "ipython3",
   "version": "3.6.3"
  }
 },
 "nbformat": 4,
 "nbformat_minor": 1
}
