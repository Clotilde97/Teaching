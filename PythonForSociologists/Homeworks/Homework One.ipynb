{
 "cells": [
  {
   "cell_type": "markdown",
   "metadata": {},
   "source": [
    "# Homework One\n",
    "\n",
    "You are expected to at least attempt all of the ten questions below. Again, while this isn't a pass/fail course, your progression to OII modules requires that you submit *something*. Each question carries an equal weight of two points. If you get the correct answer, you recieve 2 points, if you have a good attempt, you'll get one, and a shoddy attempt will get nil. Notebooks will be returned via email with feedback."
   ]
  },
  {
   "cell_type": "markdown",
   "metadata": {},
   "source": [
    "### Question One: String Manipulation - Printing Strings "
   ]
  },
  {
   "cell_type": "code",
   "execution_count": null,
   "metadata": {
    "collapsed": true
   },
   "outputs": [],
   "source": [
    "# Please print your name here."
   ]
  },
  {
   "cell_type": "markdown",
   "metadata": {},
   "source": [
    "### Question Two: String Manuipulation Continued - Special string characters\n",
    "\n",
    "Print your name in the following example (including the spaces) WITHOUT using three quotes and on just one line using the new line character (\\n).\n",
    "\n",
    "Hint: replace ``<your name here>`` with your name."
   ]
  },
  {
   "cell_type": "code",
   "execution_count": null,
   "metadata": {},
   "outputs": [],
   "source": [
    "print('''\n",
    "Hi! My name is (what?) \n",
    "My name is (who?) \n",
    "My name is <your name here>\n",
    "Hi! My name is (huh?) \n",
    "''')"
   ]
  },
  {
   "cell_type": "markdown",
   "metadata": {},
   "source": [
    "### Question Three: String Manuipulation Continued - Concatenating\n",
    "\n",
    "Using the variables below, print the \"[Konami Code](https://en.wikipedia.org/wiki/Konami_Code)\""
   ]
  },
  {
   "cell_type": "code",
   "execution_count": null,
   "metadata": {
    "collapsed": true
   },
   "outputs": [],
   "source": [
    "v1 = \"up,\"\n",
    "v2 = \"down,\"\n",
    "v3 = \"left,\"\n",
    "v4 = \"right,\"\n",
    "v5 = \"b,\"\n",
    "v6 = \"a,\"\n",
    "v7 = \"start\"\n",
    "\n",
    "# Answer here"
   ]
  },
  {
   "cell_type": "markdown",
   "metadata": {},
   "source": [
    "### Question Four: String Manipulation Continued - Transforming\n",
    "\n",
    "Change the cases of the following three variables, printing them out in their new cases one per line: "
   ]
  },
  {
   "cell_type": "code",
   "execution_count": null,
   "metadata": {
    "collapsed": true
   },
   "outputs": [],
   "source": [
    "uppercaseme = \"Make me upper case!\"\n",
    "lowercaseme = \"Make me lower case.\"\n",
    "titlecaseme = \"Make me title case.\"\n",
    "\n",
    "# Answer here"
   ]
  },
  {
   "cell_type": "markdown",
   "metadata": {},
   "source": [
    "### Question Five: Number Manipulation - Integers \n",
    "\n",
    "Print five different ways to get the number 25 as a result using five different operators, one per line. (i.e. '+' is an operator. Hint: for the fifth one, check out modulus and power operators)"
   ]
  },
  {
   "cell_type": "code",
   "execution_count": null,
   "metadata": {
    "collapsed": true
   },
   "outputs": [],
   "source": [
    "# Answer here"
   ]
  },
  {
   "cell_type": "markdown",
   "metadata": {},
   "source": [
    "### Question Six: Number Manipulation - Floating point numbers \n",
    "\n",
    "Print a [repeating decimal](https://en.wikipedia.org/wiki/Repeating_decimal) calculated from a division operation. How many decimals does it show?"
   ]
  },
  {
   "cell_type": "code",
   "execution_count": null,
   "metadata": {
    "collapsed": true
   },
   "outputs": [],
   "source": [
    "# Answer here"
   ]
  },
  {
   "cell_type": "markdown",
   "metadata": {},
   "source": [
    "### Question Seven: Dictionary Manipulation\n",
    "\n",
    "Build a dictionary with three items where the KEY is a country and the VALUE is the capital. Print the  capitals by querying the keys one line at a time."
   ]
  },
  {
   "cell_type": "code",
   "execution_count": null,
   "metadata": {
    "collapsed": true
   },
   "outputs": [],
   "source": [
    "# Answer here"
   ]
  },
  {
   "cell_type": "markdown",
   "metadata": {},
   "source": [
    "### Question Eight: Dictionary Manipulation Cont\n",
    "\n",
    "Here is a dictionary:\n",
    "\n",
    "```python\n",
    "dict = {\"Red\":\"Apple\",\"Yellow\":\"Banana\",\"Orange\":\"Orange\"}\n",
    "```\n",
    "\n",
    "Replace the 'apple' value with 'cherry' and print all the key-value pairs in one print statement."
   ]
  },
  {
   "cell_type": "code",
   "execution_count": null,
   "metadata": {
    "collapsed": true
   },
   "outputs": [],
   "source": [
    "# Answer here"
   ]
  },
  {
   "cell_type": "markdown",
   "metadata": {},
   "source": [
    "### Question Nine: List Manipulation \n",
    "\n",
    "Here is a list:\n",
    "```python\n",
    "list1 = [\"alpha\",\"bravo\",\"charlie\",\"delta\",\"echo\",\"foxtrot\"]\n",
    "```\n",
    "\n",
    "By querying this list one item at a time, print out an acrostic. For example, if you wanted to print \"beef\" it would look like:\n",
    "```python\n",
    "bravo\n",
    "echo\n",
    "echo\n",
    "foxtrot\n",
    "```"
   ]
  },
  {
   "cell_type": "code",
   "execution_count": null,
   "metadata": {
    "collapsed": true
   },
   "outputs": [],
   "source": [
    "# Answer here"
   ]
  },
  {
   "cell_type": "markdown",
   "metadata": {},
   "source": [
    "### Question Ten: List Manipulation Cont\n",
    "\n",
    "Here is a list:\n",
    "```python\n",
    "list2 = [\"third\",\"first\",\"second\",\"fourth\",\"sixth\"]\n",
    "```\n",
    "Now create a new list that is in the right order by only indexing this list. Be sure to stick in the \"fifth\" in this new list. For example if the list only had 'first' it would be: \n",
    "```python\n",
    "list3 = []\n",
    "list3.append(list2[1])\n",
    "```"
   ]
  },
  {
   "cell_type": "code",
   "execution_count": null,
   "metadata": {
    "collapsed": true
   },
   "outputs": [],
   "source": [
    "# Answer here"
   ]
  }
 ],
 "metadata": {
  "kernelspec": {
   "display_name": "Python 3",
   "language": "python",
   "name": "python3"
  },
  "language_info": {
   "codemirror_mode": {
    "name": "ipython",
    "version": 3
   },
   "file_extension": ".py",
   "mimetype": "text/x-python",
   "name": "python",
   "nbconvert_exporter": "python",
   "pygments_lexer": "ipython3",
   "version": "3.6.2"
  }
 },
 "nbformat": 4,
 "nbformat_minor": 1
}
