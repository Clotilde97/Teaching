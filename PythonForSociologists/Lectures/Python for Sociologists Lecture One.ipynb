{
 "cells": [
  {
   "cell_type": "markdown",
   "metadata": {},
   "source": [
    "#  Python for Sociologists: Lecture One"
   ]
  },
  {
   "cell_type": "markdown",
   "metadata": {},
   "source": [
    "Welcome! This is the first of four lectures in the module. For introductory information outlining the class, please see the README.md file in the [Github repository](https://github.com/crahal/Teaching/tree/master/PythonForSociologists). In this very introductory lecture we will cover primative data types (characters and numbers) and introduce various types of object. Without getting ahead of ourselves, we can note at this early stage that in Python, everything is an object, and that it is an object-oriented language (although not a 'pure' one)."
   ]
  },
  {
   "cell_type": "markdown",
   "metadata": {},
   "source": [
    "## Section 1. Primative Data Types\n",
    "\n",
    "Before we get to objects, which are the abstract building blocks of data, let's first introduce some primitive data types:\n",
    "\n",
    "* Characters\n",
    "* Numbers\n",
    "\n",
    "### 1.1 Characters\n",
    "\n",
    "A character is a single glyph that is included in a character set. Some characters are visible, such as the letter A (or 'a' - note case sensitivity) and some are invisible, such as the space in between two words. The latter is called a whitespace character. There are three important whitespace characters:\n",
    "\n",
    "1. Space,\n",
    "2. Tab (which is usually about four spaces long - more in Lecture Two when we talk about indenting),\n",
    "3. Newline character (which tells the computer to move to the next line)\n",
    "\n",
    "Lets look at some examples, and introduce the print command:"
   ]
  },
  {
   "cell_type": "code",
   "execution_count": 1,
   "metadata": {},
   "outputs": [
    {
     "name": "stdout",
     "output_type": "stream",
     "text": [
      "hello friends! how are you today?\n",
      "hello friends! \n",
      "how are you today?\n",
      "hello friends! \thow are you today?\n"
     ]
    }
   ],
   "source": [
    "print('hello friends! how are you today?')\n",
    "print('hello friends! \\nhow are you today?')\n",
    "print('hello friends! \\thow are you today?')"
   ]
  },
  {
   "cell_type": "markdown",
   "metadata": {},
   "source": [
    "### 1.2 Numbers \n",
    "\n",
    "Numbers come in several _types_, but two are important to mention:\n",
    "* Integers - whole numbers, such as 1 or 42,\n",
    "* Floating point numbers - these allow for decimal points such as 2.17 or 3.33\n",
    "\n",
    "But when in doubt, python will make an integer into a decimal. "
   ]
  },
  {
   "cell_type": "code",
   "execution_count": 2,
   "metadata": {},
   "outputs": [
    {
     "data": {
      "text/plain": [
       "2.4"
      ]
     },
     "execution_count": 2,
     "metadata": {},
     "output_type": "execute_result"
    }
   ],
   "source": [
    "12 / 5"
   ]
  },
  {
   "cell_type": "markdown",
   "metadata": {},
   "source": [
    "Floats can be distinguished from integers because they have a fractional part. We can force a number to be either an integer or a float using int() and float():"
   ]
  },
  {
   "cell_type": "code",
   "execution_count": 3,
   "metadata": {},
   "outputs": [
    {
     "data": {
      "text/plain": [
       "2"
      ]
     },
     "execution_count": 3,
     "metadata": {},
     "output_type": "execute_result"
    }
   ],
   "source": [
    "int(12/5)"
   ]
  },
  {
   "cell_type": "code",
   "execution_count": 4,
   "metadata": {},
   "outputs": [
    {
     "data": {
      "text/plain": [
       "int"
      ]
     },
     "execution_count": 4,
     "metadata": {},
     "output_type": "execute_result"
    }
   ],
   "source": [
    "type(3)"
   ]
  },
  {
   "cell_type": "code",
   "execution_count": 5,
   "metadata": {},
   "outputs": [
    {
     "data": {
      "text/plain": [
       "float"
      ]
     },
     "execution_count": 5,
     "metadata": {},
     "output_type": "execute_result"
    }
   ],
   "source": [
    "type(3.0)"
   ]
  },
  {
   "cell_type": "markdown",
   "metadata": {},
   "source": [
    "## Section 2. Strings\n",
    "\n",
    "A character isn't very useful on its own. Multiple characters together form a string. Strings are enclosed using quotations. You can use a variety of quotations in order to close the string. Two things to remember:\n",
    "\n",
    "1. Always close the string with the same quotes used to open it,\n",
    "2. Always escape a quotation character if you use it inside the string.\n",
    "\n",
    "```python\n",
    "'This is a string.'\n",
    "\n",
    "\"This is also a string.\"\n",
    "\n",
    "'''This is yet another string!\n",
    "s\n",
    "sdfasdfa\n",
    "asdf\n",
    "asdf\n",
    "asdf'''\n",
    "\n",
    "''This is not a string, but why?''\n",
    "```\n",
    "\n",
    "In Python 3.* all strings are printed inside parentheses like the following:\n",
    "```python\n",
    "print(\"This is a string!\")\n",
    "```\n",
    "\n",
    "How does this differ from Python 2.*? "
   ]
  },
  {
   "cell_type": "code",
   "execution_count": 6,
   "metadata": {},
   "outputs": [
    {
     "name": "stdout",
     "output_type": "stream",
     "text": [
      "This is a string. It has been assigned to the variable, somevar\n"
     ]
    }
   ],
   "source": [
    "# Now let's assign a string to a variable, then print the variable\n",
    "somevar = \"This is a string. It has been assigned to the variable, somevar\"\n",
    "print(somevar)"
   ]
  },
  {
   "cell_type": "markdown",
   "metadata": {},
   "source": [
    "A variable is a name that is given to an object whose contents can change.\n",
    "There are variable naming conventions:\n",
    "* ALLCAPS means a variable that we like to keep constant, like a secret key.\n",
    "* __underscoreunderscore means a variable that is hidden and shouldn't be referenced directly.\n",
    "* variables should only start with ASCII characters.\n",
    "* use a consistent style, such as camelCaseNames or underscore_variable_names.\n",
    "* alllowercasenounderscorenames are hard to read.\n",
    "\n",
    "If we want to print and assign a float or int, we have to force its type to a string first, as shown below:"
   ]
  },
  {
   "cell_type": "code",
   "execution_count": 7,
   "metadata": {},
   "outputs": [
    {
     "name": "stdout",
     "output_type": "stream",
     "text": [
      "When printing a number, we need to convert it into a string like this: 2834\n"
     ]
    }
   ],
   "source": [
    "randomnumber=2834\n",
    "print('When printing a number, we need to convert it into a string like this: '+str(randomnumber))"
   ]
  },
  {
   "cell_type": "markdown",
   "metadata": {},
   "source": [
    "### 2.1 📝 Character Sets 📝\n",
    "\n",
    "#### 2.1.1. ASCII\n",
    "\n",
    "Strings are drawn from character sets. Loosely, 'the alphabet' is a characeter set, but not a very useful one, because it's so limited. The basic Western character set is ASCII. It has 128 code points. The first 38 are control characters, like 'new line', and the remainder are the upper and lower case alphabet, ten digits and punctuation characters. ASCII is not really sufficient for most languages or most of our data intensive purposes.\n",
    "\n",
    "#### 2.1.2. UTF-8\n",
    "\n",
    "Unicode is meant to be a very large character set. It can code for over a million code points. As such, unicode includes most characters from most languages around the world, as well as the emergent emoji character set. Python 2 allows you to use unicode if you are mascochistic. Python 3 makes it pretty straightforward.\n",
    "\n",
    "#### 2.1.3. Emoji\n",
    "\n",
    "Emoji is an emerging unicode standard for pictograms. You cannot rely on every computer displaying emoji, or the Apple skin tone emoji. If you want to reference the emoji in python, you'll need to know the unicode codepoints. You can print emoji, but not really do much else with it. This is because some emoji are actually two characters. I mention emoji only to highlight that you don't need to strip your text right down to ASCII to work with it anymore, and this opens up new research questions. It's also great for pictographic langauges such as Chinese, which is now far easier to deal with in Python 3."
   ]
  },
  {
   "cell_type": "code",
   "execution_count": 8,
   "metadata": {},
   "outputs": [
    {
     "name": "stdout",
     "output_type": "stream",
     "text": [
      "🌴\n",
      "b'\\\\U0001f334'\n",
      "🌴\n",
      "True\n"
     ]
    }
   ],
   "source": [
    "print('\\U0001f334') # This is the emoji code point. \n",
    "print(b'\\U0001f334') # This is what happens when you print it as a 'bytestring'\n",
    "print('🌴') # You can print emoji directly\n",
    "print('🌴' in 'Yeah, great job! 🌴')"
   ]
  },
  {
   "cell_type": "markdown",
   "metadata": {},
   "source": [
    "### 2.2 String manipulation\n",
    "\n",
    "Strings are indexed starting from 0 and work sequentially forward. So in the string: \"python is the best\", there is an 'p' as the 0th element and an 's' as the 8th\n",
    "```python\n",
    "variable = \"python is the best\"\n",
    "print(variable[0],variable[8])\n",
    "```\n",
    "This is because a string is really a list of characters (as in a series of characters that one would string together). Can you print out the 'b' from this variable?"
   ]
  },
  {
   "cell_type": "markdown",
   "metadata": {},
   "source": [
    "Standard string methods:\n",
    "\n",
    "* upper: change to upper case\n",
    "* lower: change to lower case\n",
    "* title (capitalize): capitalize the first word (note the z)\n",
    "* find: return index of first instance of input\n",
    "* isalnum: is this string alphanumeric?\n",
    "* isalpha: is this string just letters?\n",
    "* replace: find all instances of something and change to something else\n",
    "* strip: remove whitespace characters from a string (useful when reading in from a file)\n",
    "\n",
    "A method is 'attached' to an object. The period [.] is used to link the object to the method. So if we have a string object\n",
    "\"This is an object\"\n",
    "And we attach the 'upper' method like so:\n",
    "\"This is an object\".upper()\n",
    "We can change it to upper case. Try it below using ```somevar``` from above:"
   ]
  },
  {
   "cell_type": "code",
   "execution_count": 9,
   "metadata": {},
   "outputs": [
    {
     "name": "stdout",
     "output_type": "stream",
     "text": [
      "This is a string. It has been assigned to the variable, somevar\n",
      "THIS IS A STRING. IT HAS BEEN ASSIGNED TO THE VARIABLE, SOMEVAR\n",
      "this is a string. it has been assigned to the variable, somevar\n",
      "This Is A String. It Has Been Assigned To The Variable, Somevar\n",
      "2\n",
      "False\n",
      "False\n",
      "This is not a banana. It has been assigned to the variable, somevar\n",
      "This is a string. It has been assigned to the variable, somevar\n"
     ]
    }
   ],
   "source": [
    "print(somevar)\n",
    "print(somevar.upper())\n",
    "print(somevar.lower())\n",
    "print(somevar.title())\n",
    "print(somevar.find('i'))\n",
    "print(somevar.isalnum())\n",
    "print(somevar.isalpha())\n",
    "print(somevar.replace(' is ',' is not ').replace('a string', 'a banana')) #we can 'chain' methods together\n",
    "print(somevar.strip(' '))"
   ]
  },
  {
   "cell_type": "markdown",
   "metadata": {},
   "source": [
    "We can also get help on specific methods using a syntax such as ```help(somevar.title)```. We can also get a list of all methods associated associated with an object using ```dir(object)```. To determine the *type* of object, we an utilize ```type(object)```, and To get detailed help on any object or method ```help(object)```. Lets try a couple out:"
   ]
  },
  {
   "cell_type": "code",
   "execution_count": 10,
   "metadata": {},
   "outputs": [
    {
     "data": {
      "text/plain": [
       "str"
      ]
     },
     "execution_count": 10,
     "metadata": {},
     "output_type": "execute_result"
    }
   ],
   "source": [
    "type(somevar)"
   ]
  },
  {
   "cell_type": "code",
   "execution_count": 11,
   "metadata": {},
   "outputs": [
    {
     "data": {
      "text/plain": [
       "['__add__',\n",
       " '__class__',\n",
       " '__contains__',\n",
       " '__delattr__',\n",
       " '__dir__',\n",
       " '__doc__',\n",
       " '__eq__',\n",
       " '__format__',\n",
       " '__ge__',\n",
       " '__getattribute__',\n",
       " '__getitem__',\n",
       " '__getnewargs__',\n",
       " '__gt__',\n",
       " '__hash__',\n",
       " '__init__',\n",
       " '__init_subclass__',\n",
       " '__iter__',\n",
       " '__le__',\n",
       " '__len__',\n",
       " '__lt__',\n",
       " '__mod__',\n",
       " '__mul__',\n",
       " '__ne__',\n",
       " '__new__',\n",
       " '__reduce__',\n",
       " '__reduce_ex__',\n",
       " '__repr__',\n",
       " '__rmod__',\n",
       " '__rmul__',\n",
       " '__setattr__',\n",
       " '__sizeof__',\n",
       " '__str__',\n",
       " '__subclasshook__',\n",
       " 'capitalize',\n",
       " 'casefold',\n",
       " 'center',\n",
       " 'count',\n",
       " 'encode',\n",
       " 'endswith',\n",
       " 'expandtabs',\n",
       " 'find',\n",
       " 'format',\n",
       " 'format_map',\n",
       " 'index',\n",
       " 'isalnum',\n",
       " 'isalpha',\n",
       " 'isdecimal',\n",
       " 'isdigit',\n",
       " 'isidentifier',\n",
       " 'islower',\n",
       " 'isnumeric',\n",
       " 'isprintable',\n",
       " 'isspace',\n",
       " 'istitle',\n",
       " 'isupper',\n",
       " 'join',\n",
       " 'ljust',\n",
       " 'lower',\n",
       " 'lstrip',\n",
       " 'maketrans',\n",
       " 'partition',\n",
       " 'replace',\n",
       " 'rfind',\n",
       " 'rindex',\n",
       " 'rjust',\n",
       " 'rpartition',\n",
       " 'rsplit',\n",
       " 'rstrip',\n",
       " 'split',\n",
       " 'splitlines',\n",
       " 'startswith',\n",
       " 'strip',\n",
       " 'swapcase',\n",
       " 'title',\n",
       " 'translate',\n",
       " 'upper',\n",
       " 'zfill']"
      ]
     },
     "execution_count": 11,
     "metadata": {},
     "output_type": "execute_result"
    }
   ],
   "source": [
    "dir(somevar)"
   ]
  },
  {
   "cell_type": "code",
   "execution_count": 12,
   "metadata": {},
   "outputs": [
    {
     "data": {
      "text/plain": [
       "int"
      ]
     },
     "execution_count": 12,
     "metadata": {},
     "output_type": "execute_result"
    }
   ],
   "source": [
    "type(5)"
   ]
  },
  {
   "cell_type": "code",
   "execution_count": 13,
   "metadata": {},
   "outputs": [
    {
     "data": {
      "text/plain": [
       "float"
      ]
     },
     "execution_count": 13,
     "metadata": {},
     "output_type": "execute_result"
    }
   ],
   "source": [
    "type(5.0)"
   ]
  },
  {
   "cell_type": "markdown",
   "metadata": {},
   "source": [
    "### 2.3 Special Characters\n",
    "\n",
    "What if we need to print a quotation character inside a string that uses quotes? Introducing the escape character! The escape character is the backslash: in order to print a quotation rather than use it to end the string, you would type:\n",
    "```python\n",
    "\"Escaping a \\\" in a string\"\n",
    "```\n",
    "However, sometimes you can sidestep this by using a different quotation type within the string itself:\n",
    "```python\n",
    "\"This will 'work'.\"\n",
    "'This will also \"work\".'\n",
    "'''This will work for both \" and ' types.'''\n",
    "```\n",
    "The triple quote is used for block quotes, where you can just keep writing across lines. Lets try it out, and escape the escape character also (with a newline thrown in for good measure):"
   ]
  },
  {
   "cell_type": "code",
   "execution_count": 14,
   "metadata": {},
   "outputs": [
    {
     "name": "stdout",
     "output_type": "stream",
     "text": [
      "This will also \"work\".\n",
      "If you haven't inserted \\ characters\n",
      "This will be \"totally\" broken\n"
     ]
    }
   ],
   "source": [
    "print('This will also \"work\".')\n",
    "print(\"If you haven't inserted \\\\ characters\\nThis will be \\\"totally\\\" broken\")"
   ]
  },
  {
   "cell_type": "markdown",
   "metadata": {},
   "source": [
    "### 2.4 Combining strings\n",
    "\n",
    "Imagine you have two words that you wish to add together, such as 'Data' and 'Science'. There are several ways to do this.\n",
    "\n",
    "#### 2.4.1. Concatenation\n",
    "\n",
    "In python the + symbol means concatenate when it appears between two strings. This is the simplest way to combine two strings. Here are some ways to concatenate. Try them out, but dont forget the whitespace if necessary:\n",
    "```python\n",
    "var1 = \"Cheese\"\n",
    "var2 = \"burger\"\n",
    "print(var1 + var2)\n",
    "print(\"Cheese\" + \"burger\")\n",
    "var3 = var1 + var2\n",
    "print(var3)\n",
    "```\n",
    "Note that the + symbol is used for both addition *and* concatenation. So be careful, if you mix strings and numbers python will throw an error (try ```print(1 + '2')```....)\n",
    "\n",
    "To make a number into a string, you can use the string function (```str()```)\n",
    "```\n",
    "num = 123\n",
    "strNum = str(num)\n",
    "```\n",
    "#### 2.4.2. Insertion\n",
    "\n",
    "Sometimes you want to insert something in the middle of a statement but don't want to merely concatenate. Maybe you have a collection of things and want to insert them in a lot of places. The bonus is that you can also print digits really nicely this way.\n",
    "\n",
    "```python\n",
    "print(\"Pi to two decimal points is %1.2f. Isn't that convenient?\" % 3.1456)\n",
    "```\n",
    "\n",
    "#### 2.4.3. Joining\n",
    "\n",
    "Sometimes you want to join strings together with a specific seperator:\n",
    "\n",
    "```python\n",
    "newStr = \";\".join([\"I want to\",\"join this together\"])\n",
    "```\n",
    "\n",
    "More commonly, you want to join a list of words on whitespace to make a sentence: ```' '.join(list)```.\n",
    "\n",
    "\n",
    "#### 2.4.3. Splitting:\n",
    "\n",
    "If you can join strings together, you can also split them! This is crucial for data cleaning. The default way to split the data is using the whitespace character, but we can also split on specific substrings:\n",
    "\n",
    "```python\n",
    "oldStr = \"Let's split this into chunks\"\n",
    "newList = oldStr.split('this')\n",
    "```"
   ]
  },
  {
   "cell_type": "markdown",
   "metadata": {},
   "source": [
    "## Section 3. Collections\n",
    "\n",
    "Virtually every programming language has a notion of a collection. A collection is a means for referring to one or more things at the same time, and Python has many collection types (note: a string can be thought of as a joined up list of characters). In general, collections are iterable, which means that you can ask for each item in the collection one-by-one. But beyond that they vary quite dramatically. Here are the major collection *types* that you will come across in Python:\n",
    "\n",
    "### 3.1. Lists\n",
    "\n",
    "A list is a sequential (the order is relevant), zero-indexed (first item is indexed at 0) and mutable (you can add or delete elements) collection signified by ```[... , ...]```. Lets make and play around with a list:"
   ]
  },
  {
   "cell_type": "code",
   "execution_count": 15,
   "metadata": {},
   "outputs": [
    {
     "name": "stdout",
     "output_type": "stream",
     "text": [
      "My first and third favourite fruits are Strawberries and Blueberries\n",
      "['Strawberries', 'Blackberries', 'Blueberries', 'Gooseberries']\n"
     ]
    }
   ],
   "source": [
    "mylistoffavouritefruits = [\"Strawberries\",\"Blackberries\",\"Blueberries\"]\n",
    "print('My first and third favourite fruits are ' + mylistoffavouritefruits[0] + ' and ' + mylistoffavouritefruits[2])\n",
    "\n",
    "mylistoffavouritefruits.append(\"Gooseberries\")\n",
    "print(mylistoffavouritefruits)"
   ]
  },
  {
   "cell_type": "markdown",
   "metadata": {},
   "source": [
    "### 3.2. Tuples\n",
    "\n",
    "A tuple is a sequential, zero-indexed and *immutable* collection signified by ```(... , ...)```: a list you can't change. It's denoted by parentheses rather than square brackets. They are used in lots of places where you don't want a list to change size or you want your object operations to be faster than with a list:\n",
    "\n",
    "```python\n",
    "mytupleoffavouritefruits = (\"Strawberries\",\"Blackberries\",\"Blueberries\")\n",
    "```"
   ]
  },
  {
   "cell_type": "markdown",
   "metadata": {},
   "source": [
    "#### 3.1.2. Querying and Slicing Lists/Tuples \n",
    "\n",
    "You can index a list just like a string, and just like strings, you can ask for a range of values (a 'slice') using a semi-colon (although if you run out of range, you will get an error):\n",
    "\n",
    "```python\n",
    "mylistoffavouritefruits[0:2]\n",
    "```\n",
    "\n",
    "Note here that the return is a list. If we want a specific string, we can index the new list:\n",
    "\n",
    "```python\n",
    "mylistoffavouritefruits[0:2][0]\n",
    "```\n",
    "\n",
    "You can also index from the end of the list/tuple/string to walk backwards. This is done with negative numbers:\n",
    "\n",
    "```python\n",
    "mylistoffavouritefruits[-1]\n",
    "```"
   ]
  },
  {
   "cell_type": "markdown",
   "metadata": {},
   "source": [
    "### 3.3 Dictionaries\n",
    "\n",
    "A dictionary is an unordered, key-indexed and mutable collection signified by ```{... : ... , ... : ... }```. Like in English, where a dictionary defines a word, a dictionary in Python uses a key to fetch a value:\n",
    "\n",
    "```python\n",
    "FruitScoresDict = {\"Apples\":\"7/10\",\"Bananas\":\"8/10\", \"Strawberries\":\"10/10\"}\n",
    "```"
   ]
  },
  {
   "cell_type": "code",
   "execution_count": 16,
   "metadata": {},
   "outputs": [
    {
     "name": "stdout",
     "output_type": "stream",
     "text": [
      "dict_keys(['Apples', 'Bananas', 'Strawberries', 'Blueberries'])\n",
      "dict_values(['7/10', '8/10', '10/10', '9/10'])\n",
      "dict_items([('Apples', '7/10'), ('Bananas', '8/10'), ('Strawberries', '10/10'), ('Blueberries', '9/10')])\n",
      "7/10\n"
     ]
    }
   ],
   "source": [
    "FruitScoresDict = {\"Apples\":\"7/10\",\"Bananas\":\"8/10\", \"Strawberries\":\"10/10\"}\n",
    "FruitScoresDict['Blueberries']=\"9/10\" #add a new key:value pair 'on the fly'\n",
    "\n",
    "print(FruitScoresDict.keys())\n",
    "print(FruitScoresDict.values())\n",
    "print(FruitScoresDict.items())\n",
    "print(FruitScoresDict['Apples'])"
   ]
  },
  {
   "cell_type": "markdown",
   "metadata": {},
   "source": [
    "## Optional Homework:\n",
    "\n",
    "What is a set? Is it ordered, mutable, etc? What benefits does it provide over a list, tuple or dictionary? What about if there are duplicates in the set? Sets will also feature at the start of (non-optional) Homework Two...\n",
    "\n",
    "## Non-Optional Homework!\n",
    "\n",
    "Be sure to submit the Week One Homework Questions via email by next 5pm on Tuesday! "
   ]
  }
 ],
 "metadata": {
  "kernelspec": {
   "display_name": "Python 3",
   "language": "python",
   "name": "python3"
  },
  "language_info": {
   "codemirror_mode": {
    "name": "ipython",
    "version": 3
   },
   "file_extension": ".py",
   "mimetype": "text/x-python",
   "name": "python",
   "nbconvert_exporter": "python",
   "pygments_lexer": "ipython3",
   "version": "3.6.3"
  }
 },
 "nbformat": 4,
 "nbformat_minor": 2
}
