{
 "cells": [
  {
   "cell_type": "markdown",
   "metadata": {},
   "source": [
    "#  Python for Sociologists: Lecture Three\n",
    "\n",
    "Note that this class is substantially shorter than the rest, and everything from ```Functions``` onwards will be covered in Lecture 4, which will be much longer."
   ]
  },
  {
   "cell_type": "markdown",
   "metadata": {},
   "source": [
    "## Feedback on Exercises\n",
    "\n",
    "To be discussed in class, question by question because it seems this week was a big step up in difficulty."
   ]
  },
  {
   "cell_type": "markdown",
   "metadata": {},
   "source": [
    "## Section 6. More on Loops\n",
    "\n",
    "### 6.1 Indentations: Recap - outside of control still in for!\n",
    "\n",
    "A quick recap: it's easy to forget where we are in the indentation 'parent'/'child' relationship. For example, the following code block prints *every letter* in the loop in such a way that only the letter 'a' is printed in upper case as 'A':\n",
    "\n",
    "\n",
    "```python \n",
    "for i in list1: \n",
    "    if i == 'a':\n",
    "        i = i.upper()\n",
    "    print(i)\n",
    "```"
   ]
  },
  {
   "cell_type": "markdown",
   "metadata": {},
   "source": [
    "### 6.2. Continue and break\n",
    "\n",
    "Sometimes you need to get out of a loop running a line of code. There are two ways to break this loop. The first, \"continue\", will return to the top of the loop and start again. The second, \"break\", will stop the loop entirely.\n"
   ]
  },
  {
   "cell_type": "code",
   "execution_count": 1,
   "metadata": {},
   "outputs": [
    {
     "name": "stdout",
     "output_type": "stream",
     "text": [
      "An example of a \"break\"\n",
      "h\n",
      "e\n",
      "l\n",
      "l\n",
      "o\n",
      " \n",
      "f\n",
      "r\n",
      "The end\n"
     ]
    }
   ],
   "source": [
    "print('An example of a \"break\"')\n",
    "for val in \"hello friends!\":\n",
    "    if val == \"i\":\n",
    "        break\n",
    "    print(val)\n",
    "print(\"The end\")"
   ]
  },
  {
   "cell_type": "code",
   "execution_count": 2,
   "metadata": {},
   "outputs": [
    {
     "name": "stdout",
     "output_type": "stream",
     "text": [
      "An example of a \"continue\"\n",
      "h\n",
      "e\n",
      "l\n",
      "l\n",
      "o\n",
      " \n",
      "f\n",
      "r\n",
      "e\n",
      "n\n",
      "d\n",
      "s\n",
      "!\n",
      "The end\n"
     ]
    }
   ],
   "source": [
    "print('An example of a \"continue\"')\n",
    "for val in \"hello friends!\":\n",
    "    if val == \"i\":\n",
    "        continue\n",
    "    print(val)\n",
    "print(\"The end\")"
   ]
  },
  {
   "cell_type": "markdown",
   "metadata": {},
   "source": [
    "### 6.3. While\n",
    "\n",
    "While loops are less common than for loops, but they do come up, especially when dealing with files. Generally, a while loop continues to run 'while' it evaluates to true. The danger of while loops is that they may never terminate! Consider the following code as an example of when you might use a for loop:\n",
    "```python\n",
    "i = 1\n",
    "while i <= 10:\n",
    "    print(i)\n",
    "    i += 1\n",
    "```"
   ]
  },
  {
   "cell_type": "markdown",
   "metadata": {},
   "source": [
    "Consider the following example of an ```infinite``` while loop. In some circumstances, you may want it to perpetuate forever, but be sure that this is the case if so!\n",
    "\n",
    "(hint: save your notebook if running the below)"
   ]
  },
  {
   "cell_type": "code",
   "execution_count": 3,
   "metadata": {
    "collapsed": true
   },
   "outputs": [],
   "source": [
    "#*******************************\n",
    "# DANGER, DANGER, HIGH VOLTAGE#\n",
    "#*******************************\n",
    "\n",
    "#while 0:\n",
    "#    print(\"This will never end.\")"
   ]
  },
  {
   "cell_type": "markdown",
   "metadata": {},
   "source": [
    "### 6.4. List comprehensions\n",
    "\n",
    "These are one of the most handy features in Python, but they can also be tricky. We are introducing these here because you are likely to see them in code, and you should know what it is you're seeing. The general idea is that when you want to transform elements in a list and return a new list, you can do this in one statement. See first the way we already know:"
   ]
  },
  {
   "cell_type": "code",
   "execution_count": 4,
   "metadata": {},
   "outputs": [
    {
     "name": "stdout",
     "output_type": "stream",
     "text": [
      "['C', 'Python', 'R', 'MATLAB']\n"
     ]
    }
   ],
   "source": [
    "languages=['C','Python','R','MATLAB']\n",
    "bestlanguages=[]\n",
    "for language in languages:\n",
    "    bestlanguages.append(language)\n",
    "print(bestlanguages)"
   ]
  },
  {
   "cell_type": "markdown",
   "metadata": {},
   "source": [
    "And now via a list comprehension:"
   ]
  },
  {
   "cell_type": "code",
   "execution_count": 5,
   "metadata": {},
   "outputs": [
    {
     "name": "stdout",
     "output_type": "stream",
     "text": [
      "['C', 'Python', 'R', 'MATLAB']\n"
     ]
    }
   ],
   "source": [
    "bestlanguages=[] #reset to empty\n",
    "[bestlanguages.append(language) for language in languages]\n",
    "print(bestlanguages)"
   ]
  },
  {
   "cell_type": "markdown",
   "metadata": {},
   "source": [
    "### 6.4.1. Advanced List comprehensions\n",
    "\n",
    "List comprehensions can also include boolean operators (```if``` statements) so that an operation is only done on some elements of a list:"
   ]
  },
  {
   "cell_type": "code",
   "execution_count": 6,
   "metadata": {},
   "outputs": [
    {
     "name": "stdout",
     "output_type": "stream",
     "text": [
      "['Python']\n"
     ]
    }
   ],
   "source": [
    "bestlanguages=[] #reset to empty\n",
    "[bestlanguages.append(language) for language in languages if language=='Python']\n",
    "print(bestlanguages)"
   ]
  },
  {
   "cell_type": "markdown",
   "metadata": {},
   "source": [
    "# Section 7: User Input and Error Handling\n",
    "\n",
    "Sometimes you might want input from the user. In the following example, user input will be explored alongside loops and control statements.\n"
   ]
  },
  {
   "cell_type": "code",
   "execution_count": 7,
   "metadata": {},
   "outputs": [
    {
     "name": "stdout",
     "output_type": "stream",
     "text": [
      "Hello! What's your favourite number? 73\n",
      "That's amazing! My favourite number is also 73\n"
     ]
    }
   ],
   "source": [
    "a = input(\"Hello! What's your favourite number? \")\n",
    "\n",
    "print(\"That's amazing! My favourite number is also %s\" % int(a))"
   ]
  },
  {
   "cell_type": "markdown",
   "metadata": {},
   "source": [
    "But what happens when we put a string into the above? Thats right! A traceback! Introducing 'Error Handling' via ```try``` and ```except``` - this is a method to catch an error that you anticipate happening."
   ]
  },
  {
   "cell_type": "code",
   "execution_count": 8,
   "metadata": {},
   "outputs": [
    {
     "name": "stdout",
     "output_type": "stream",
     "text": [
      "Hello! What's your favourite number? cat food\n",
      "\"cat food\" is not a valid integer!\n"
     ]
    }
   ],
   "source": [
    "a = input(\"Hello! What's your favourite number? \")\n",
    "try:\n",
    "    print(\"That's amazing! My favourite number is also %s\" % int(a))\n",
    "except ValueError:\n",
    "    print(\"\\\"%s\\\" is not a valid integer!\" % a)"
   ]
  },
  {
   "cell_type": "markdown",
   "metadata": {},
   "source": [
    "Another example:\n",
    "```python    \n",
    "x = 1\n",
    "y = 0\n",
    "\n",
    "try:\n",
    "    print(x/y)\n",
    "except:\n",
    "    print(\"why is this being printed?\")\n",
    "```"
   ]
  },
  {
   "cell_type": "markdown",
   "metadata": {},
   "source": [
    "## Section 8: Pseudocode\n",
    "\n",
    "Pseudocode is a common method which enables the programmer to plan without worrying about syntax and tracebacks, with a focus on the operations and methods. We can write down every step, including if conditions and loop, and fill it in a rough and ready fashion, using shortcuts where  we think appropriate. This allows us to ascertain what we do know how to do easily (which we can use shortcuts or shorthand for in the psuedocode), and what we still need to figure out. This skill of abstraction is essential to solving problems as a programmer! See below for an example:\n",
    "\n",
    "\n",
    "```python\n",
    "\n",
    "state my favourite number\n",
    "for 1 to 10\n",
    "    raise it to the power of 1 to 10 sequentially in a loop\n",
    "    print out the numbers\n",
    "```"
   ]
  },
  {
   "cell_type": "code",
   "execution_count": 9,
   "metadata": {},
   "outputs": [
    {
     "name": "stdout",
     "output_type": "stream",
     "text": [
      "37\n",
      "1369\n",
      "50653\n",
      "1874161\n",
      "69343957\n",
      "2565726409\n",
      "94931877133\n",
      "3512479453921\n",
      "129961739795077\n",
      "4808584372417849\n"
     ]
    }
   ],
   "source": [
    "myfavnum=37\n",
    "for number in range(1,11):\n",
    "    answer=myfavnum**number\n",
    "    print(answer)"
   ]
  },
  {
   "cell_type": "markdown",
   "metadata": {},
   "source": [
    "## Optional Homework\n",
    "\n",
    "Can you come up with another example of pseudocode, and the convert it to real code?\n",
    "\n",
    "## Non-Optional Homework!\n",
    "\n",
    "Be sure to submit the Week Three Homework Questions via email by next 5pm on Tuesday!"
   ]
  }
 ],
 "metadata": {
  "kernelspec": {
   "display_name": "Python 3",
   "language": "python",
   "name": "python3"
  },
  "language_info": {
   "codemirror_mode": {
    "name": "ipython",
    "version": 3
   },
   "file_extension": ".py",
   "mimetype": "text/x-python",
   "name": "python",
   "nbconvert_exporter": "python",
   "pygments_lexer": "ipython3",
   "version": "3.6.3"
  }
 },
 "nbformat": 4,
 "nbformat_minor": 2
}
