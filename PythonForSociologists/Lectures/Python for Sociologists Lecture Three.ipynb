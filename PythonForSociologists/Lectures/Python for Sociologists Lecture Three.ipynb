{
 "cells": [
  {
   "cell_type": "markdown",
   "metadata": {},
   "source": [
    "#  Python for Sociologists: Lecture Three"
   ]
  },
  {
   "cell_type": "markdown",
   "metadata": {},
   "source": [
    "## Feedback on Exercises\n",
    "\n",
    "To be discussed in class."
   ]
  },
  {
   "cell_type": "markdown",
   "metadata": {},
   "source": [
    "## Section 6. More on Loops\n",
    "\n",
    "### 6.1 Indentations: Recap - outside of control still in for!\n",
    "\n",
    "A quick recap: it's easy to forget where we are in the indentation 'parent'/'child' relationship. For example, the following code block prints *every letter* in the loop in such a way that only the letter 'a' is printed in upper case as 'A':\n",
    "\n",
    "\n",
    "```python \n",
    "for i in list1: \n",
    "    if i == 'a':\n",
    "        i = i.upper()\n",
    "    print(i)\n",
    "```"
   ]
  },
  {
   "cell_type": "markdown",
   "metadata": {},
   "source": [
    "### 6.2. Continue and break\n",
    "\n",
    "Sometimes you need to get out of a loop running a line of code. There are two ways to break this loop. The first, \"continue\", will return to the top of the loop and start again. The second, \"break\", will stop the loop entirely.\n"
   ]
  },
  {
   "cell_type": "code",
   "execution_count": 1,
   "metadata": {},
   "outputs": [
    {
     "name": "stdout",
     "output_type": "stream",
     "text": [
      "An example of a \"break\"\n",
      "h\n",
      "e\n",
      "l\n",
      "l\n",
      "o\n",
      " \n",
      "f\n",
      "r\n",
      "The end\n"
     ]
    }
   ],
   "source": [
    "print('An example of a \"break\"')\n",
    "for val in \"hello friends!\":\n",
    "    if val == \"i\":\n",
    "        break\n",
    "    print(val)\n",
    "print(\"The end\")"
   ]
  },
  {
   "cell_type": "code",
   "execution_count": 2,
   "metadata": {},
   "outputs": [
    {
     "name": "stdout",
     "output_type": "stream",
     "text": [
      "An example of a \"continue\"\n",
      "h\n",
      "e\n",
      "l\n",
      "l\n",
      "o\n",
      " \n",
      "f\n",
      "r\n",
      "e\n",
      "n\n",
      "d\n",
      "s\n",
      "!\n",
      "The end\n"
     ]
    }
   ],
   "source": [
    "print('An example of a \"continue\"')\n",
    "for val in \"hello friends!\":\n",
    "    if val == \"i\":\n",
    "        continue\n",
    "    print(val)\n",
    "\n",
    "print(\"The end\")"
   ]
  },
  {
   "cell_type": "markdown",
   "metadata": {},
   "source": [
    "### 6.3. While\n",
    "\n",
    "While loops are less common than for loops, but they do come up, especially when dealing with files. Generally, a while loop continues to run 'while' it evaluates to true. The danger of while loops is that they may never terminate! Consider the following code:\n",
    "```python\n",
    "i = 1\n",
    "while i <= 10:\n",
    "    print(i)\n",
    "    i += 1\n",
    "```"
   ]
  },
  {
   "cell_type": "code",
   "execution_count": 3,
   "metadata": {
    "collapsed": true
   },
   "outputs": [],
   "source": [
    "#*******************************\n",
    "# DANGER, DANGER, HIGH VOLTAGE#\n",
    "#*******************************\n",
    "\n",
    "#while 0:\n",
    "#    print(\"This will never end.\")"
   ]
  },
  {
   "cell_type": "markdown",
   "metadata": {},
   "source": [
    "### 6.4. List comprehensions\n",
    "\n",
    "These are one of the most handy features in Python. But they are really tricky. We are introducing these here because you are likely to see them in code, and you should know what it is you're seeing. The general idea is that when you want to transform elements in a list and return a new list, you can do this in one statement:"
   ]
  },
  {
   "cell_type": "code",
   "execution_count": 4,
   "metadata": {},
   "outputs": [
    {
     "name": "stdout",
     "output_type": "stream",
     "text": [
      "['C', 'Python', 'R', 'MATLAB']\n"
     ]
    }
   ],
   "source": [
    "languages=['C','Python','R','MATLAB']\n",
    "bestlanguages=[]\n",
    "for language in languages:\n",
    "    bestlanguages.append(language)\n",
    "print(bestlanguages)"
   ]
  },
  {
   "cell_type": "code",
   "execution_count": 5,
   "metadata": {},
   "outputs": [
    {
     "name": "stdout",
     "output_type": "stream",
     "text": [
      "['C', 'Python', 'R', 'MATLAB']\n"
     ]
    }
   ],
   "source": [
    "bestlanguages=[] #reset to empty\n",
    "[bestlanguages.append(language) for language in languages]\n",
    "print(bestlanguages)"
   ]
  },
  {
   "cell_type": "markdown",
   "metadata": {},
   "source": [
    "### 6.4.1. Advanced List comprehensions\n",
    "\n",
    "List comprehensions can also include boolean operators so that an operation is only done on some elements of a list."
   ]
  },
  {
   "cell_type": "code",
   "execution_count": null,
   "metadata": {},
   "outputs": [
    {
     "name": "stdout",
     "output_type": "stream",
     "text": [
      "['Python']\n"
     ]
    }
   ],
   "source": [
    "bestlanguages=[] #reset to empty\n",
    "[bestlanguages.append(language) for language in languages if language=='Python']\n",
    "print(bestlanguages)"
   ]
  },
  {
   "cell_type": "markdown",
   "metadata": {},
   "source": [
    "# Section 7: User Input and Error Handling\n",
    "\n",
    "Sometimes you might want input from the user. In the following example, user input will be explored alongside loops and control statements.\n"
   ]
  },
  {
   "cell_type": "code",
   "execution_count": null,
   "metadata": {},
   "outputs": [],
   "source": [
    "a = input(\"Hello! What's your favourite number? \")\n",
    "\n",
    "print(\"That's amazing! My favourite number is also %s\" % int(a))"
   ]
  },
  {
   "cell_type": "markdown",
   "metadata": {},
   "source": [
    "But what happens when we put a number into the above? Thats right! A traceback! Introducing 'Error Handling' via ```try``` and ```except``` - this is a method to catch an error that you anticipate happening."
   ]
  },
  {
   "cell_type": "code",
   "execution_count": null,
   "metadata": {},
   "outputs": [],
   "source": [
    "a = input(\"Hello! What's your favourite number? \")\n",
    "try:\n",
    "    print(\"That's amazing! My favourite number is also %s\" % int(a))\n",
    "except ValueError:\n",
    "    print(\"\\\"%s\\\" is not a valid integer!\" % a)"
   ]
  },
  {
   "cell_type": "markdown",
   "metadata": {},
   "source": [
    "Another example:\n",
    "```python    \n",
    "x = 1\n",
    "y = 0\n",
    "\n",
    "try:\n",
    "    print(x/y)\n",
    "except:\n",
    "    print(\"why?\")\n",
    "```"
   ]
  },
  {
   "cell_type": "markdown",
   "metadata": {},
   "source": [
    "## Section 8. Functions I: Abstraction.\n",
    "\n",
    "Perhaps the most important concept that we will cover in this course is the notion of abstraction. To make something more abstract is to articulate or encode some phenomenon in a form that is less contingent or specific. If we can discern the commonalities between different cases, we can apply the same logic in a number of cases.\n",
    "The functional purpose of programming is typically to transform particular cases into more general ones. Instead of renaming every photo in a set of vacation photos, we can append \"Vacation2016_\" to all of them. In a broader sense, we are trying to automate or abstract tasks with computers in order to play to their strengths for speed and accuracy.\n",
    "When coding, we prefer abstraction because it gives code a number of advantages:\n",
    "* easier to re-use\n",
    "* more robust\n",
    "* more efficient for the coder.\n",
    "\n",
    "The primary way in which we employ abstraction in programming is the use of the function, f(x) = y. In this case x is some input, f() is a function that is applied to the input and y is the output. Here is a function in python:\n",
    "\n",
    "```python\n",
    "def greet(): \n",
    "    print('hello world')\n",
    "```\n",
    "\n",
    "This function simply prints the greeting 'hello world'. Now every time we want to say hello world, we could just say greet() instead. It is hardly an improvement, but when you place many reusable lines of code together, then the benefits become obvious."
   ]
  },
  {
   "cell_type": "code",
   "execution_count": null,
   "metadata": {},
   "outputs": [],
   "source": [
    "def greet(): \n",
    "    print('Are you having a nice day today?')\n",
    "\n",
    "# Here is how you call this function\n",
    "greet()"
   ]
  },
  {
   "cell_type": "markdown",
   "metadata": {},
   "source": [
    "Critically, functions can also take an input, operate on it, and then return the result:"
   ]
  },
  {
   "cell_type": "code",
   "execution_count": null,
   "metadata": {},
   "outputs": [],
   "source": [
    "def doubleme(input): \n",
    "    return input * 2\n",
    "\n",
    "doubleme(5)"
   ]
  },
  {
   "cell_type": "markdown",
   "metadata": {},
   "source": [
    "Lets try some more functions as examples, including a try except. First, take a function which accepts strings as inputs:"
   ]
  },
  {
   "cell_type": "code",
   "execution_count": null,
   "metadata": {},
   "outputs": [],
   "source": [
    "def favouritecolour(colour):\n",
    "    print('My favourite colour is '+colour)\n",
    "\n",
    "favouritecolour('green')"
   ]
  },
  {
   "cell_type": "markdown",
   "metadata": {},
   "source": [
    "What about if somebody tries to input a string into a function which only accepts mathematical arguements? Try and except to the rescue!"
   ]
  },
  {
   "cell_type": "code",
   "execution_count": null,
   "metadata": {},
   "outputs": [],
   "source": [
    "def numberfunction(number):\n",
    "    try:\n",
    "        print(number*number)\n",
    "    except:\n",
    "        print('Not a number! D\\'oh!')\n",
    "numberfunction(5)\n",
    "numberfunction('plos-one')"
   ]
  },
  {
   "cell_type": "markdown",
   "metadata": {},
   "source": [
    "### 8.1. Passing variables around\n",
    "\n",
    "Parameters to functions are passed by reference, not as copies. This means that objects that get modified in the function are permanently changed. See this below example for further exposition:"
   ]
  },
  {
   "cell_type": "code",
   "execution_count": null,
   "metadata": {},
   "outputs": [],
   "source": [
    "def has_1(listIn):\n",
    "    listIn.sort() \n",
    "    return listIn\n",
    "\n",
    "mylist = [7, 10, 1, 15, 2, 4]\n",
    "\n",
    "print(\"The list before it was sorted:\\n\",mylist)\n",
    "\n",
    "result = has_1(mylist)\n",
    "\n",
    "print(\"\\nThe list after it was sorted:\\n\",result)"
   ]
  },
  {
   "cell_type": "markdown",
   "metadata": {},
   "source": [
    "### 8.2. Global vs local variables\n",
    "\n",
    "In python, variables are local if not otherwise declared. This means that when you define variables inside a function indentation, they are `local` to this function by default. While this topic is slightly more advanced and beyond the scope of this module, consider the following: "
   ]
  },
  {
   "cell_type": "code",
   "execution_count": null,
   "metadata": {},
   "outputs": [],
   "source": [
    "def myfavouritesinger(): \n",
    "    s = \"I love Taylor Swift the most!\"\n",
    "    print(s) \n",
    "\n",
    "s = \"I love Katy Perry the most!\"\n",
    "myfavouritesinger()\n",
    "print(s)"
   ]
  },
  {
   "cell_type": "markdown",
   "metadata": {},
   "source": [
    "## Section 9: Pseudocode\n",
    "\n",
    "Pseudocode is a common method which enables the programmer to plan without worrying about syntax and tracebacks, with a focus on the operations and methods. We can write down every step, including if conditions and loop, and fill it in a rough and ready fashion, using shortcuts where  we think appropriate. This allows us to ascertain what we do know how to do easily (which we can use shortcuts or shorthand for in the psuedocode), and what we still need to figure out. This skill of abstraction is essential to solving problems as a programmer! See below for an example:\n",
    "\n",
    "\n",
    "```python\n",
    "\n",
    "state my favourite number\n",
    "for 1 to 10\n",
    "    raise it to the power of 1 to 10 sequentially in a loop\n",
    "    print out the numbers\n",
    "```"
   ]
  },
  {
   "cell_type": "code",
   "execution_count": null,
   "metadata": {},
   "outputs": [],
   "source": [
    "myfavnum=37\n",
    "for number in range(1,11):\n",
    "    answer=myfavnum**number\n",
    "    print(answer)"
   ]
  },
  {
   "cell_type": "markdown",
   "metadata": {},
   "source": [
    "## Optional Homework\n",
    "\n",
    "Can you come up with another example of pseudocode, and the convert it to real code?\n",
    "\n",
    "## Non-Optional Homework!\n",
    "\n",
    "Be sure to submit the Week Three Homework Questions via email by next 5pm on Tuesday!"
   ]
  }
 ],
 "metadata": {
  "kernelspec": {
   "display_name": "Python 3",
   "language": "python",
   "name": "python3"
  },
  "language_info": {
   "codemirror_mode": {
    "name": "ipython",
    "version": 3
   },
   "file_extension": ".py",
   "mimetype": "text/x-python",
   "name": "python",
   "nbconvert_exporter": "python",
   "pygments_lexer": "ipython3",
   "version": "3.6.2"
  }
 },
 "nbformat": 4,
 "nbformat_minor": 2
}
