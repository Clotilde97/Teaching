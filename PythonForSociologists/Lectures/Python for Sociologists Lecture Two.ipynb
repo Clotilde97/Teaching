{
 "cells": [
  {
   "cell_type": "markdown",
   "metadata": {},
   "source": [
    "#  Python for Sociologists: Lecture Two"
   ]
  },
  {
   "cell_type": "markdown",
   "metadata": {},
   "source": [
    "## Recap from last week and feedback on Homework #1\n",
    "\n",
    "Lets pick up where we left off last week with a reminder of how dictionarys work to get warmed up. Add in the other Weasley sibblings (Charlie, Percy, Bill and Ginny) and query the Weasley family:\n",
    "\n",
    "```python\n",
    "nonmuggles = {\n",
    "    \"Potter\": \"Harry\",\n",
    "    \"Granger\": \"Hermoine\",\n",
    "    \"Weasley\": [\"Fred\",\"George\",\"Ron\"],\n",
    "}\n",
    "```"
   ]
  },
  {
   "cell_type": "markdown",
   "metadata": {
    "collapsed": true
   },
   "source": [
    "### 3.4 Advanced List Operations\n",
    "\n",
    "#### 3.4.1. Slicing of lists\n",
    "\n",
    "We can do more than simply query a list by its index. And also, indices can be negative numbers as well. When we use negative numbers we are indexing the list from the end, rather than the front. We can also ask for a part of a list in a range. This is called 'slicing'. Finally, if we are working with characters, we can chop up a string into a list, or take a list and join it together as a string. You can index a list using the []. To slice a list, you would use the : inside the []. Lets try an example where we get a single indexed return and a slice:"
   ]
  },
  {
   "cell_type": "code",
   "execution_count": 1,
   "metadata": {
    "collapsed": false
   },
   "outputs": [
    {
     "name": "stdout",
     "output_type": "stream",
     "text": [
      "!\n",
      "['a', 'list']\n"
     ]
    }
   ],
   "source": [
    "mylist=['I','am','a','list','!']\n",
    "print(mylist[-1])\n",
    "print(mylist[2:-1])"
   ]
  },
  {
   "cell_type": "markdown",
   "metadata": {},
   "source": [
    "Now you try: define your own list (it can be as long as you like) and index and slice it in various ways. Note, we index and split strings in exactly the same way:"
   ]
  },
  {
   "cell_type": "code",
   "execution_count": 2,
   "metadata": {
    "collapsed": false
   },
   "outputs": [
    {
     "name": "stdout",
     "output_type": "stream",
     "text": [
      "exactly the same way!\n",
      "exactly!\n"
     ]
    }
   ],
   "source": [
    "mystring='we index and split strings in exactly the same way!'\n",
    "print(mystring[30:])\n",
    "print(mystring[30:37]+mystring[-1])"
   ]
  },
  {
   "cell_type": "markdown",
   "metadata": {},
   "source": [
    "#### 3.4.1. Splitting lists"
   ]
  },
  {
   "cell_type": "markdown",
   "metadata": {},
   "source": [
    "Strings are just a special kind of list that only includes characters. We can query and slice strings the way we do lists. We can also alternate between strings and lists using ```.split()``` and ```str.joint.()```, i.e.:\n",
    "```python\n",
    "newlist = \"\".split()\n",
    "```\n",
    "and\n",
    "```python\n",
    "newstring = str.join([])\n",
    "```"
   ]
  },
  {
   "cell_type": "code",
   "execution_count": 3,
   "metadata": {
    "collapsed": false
   },
   "outputs": [
    {
     "name": "stdout",
     "output_type": "stream",
     "text": [
      "I want to break free\n",
      "['I', 'want', 'to', 'break', 'free']\n",
      "I want to break free\n"
     ]
    }
   ],
   "source": [
    "iwanttobreakfree=\"I want to break free\"\n",
    "print(iwanttobreakfree)\n",
    "godknows=iwanttobreakfree.split()\n",
    "print(godknows)\n",
    "godknowsiwanttobreakfree=\" \".join(godknows)\n",
    "print(godknowsiwanttobreakfree)"
   ]
  },
  {
   "cell_type": "markdown",
   "metadata": {},
   "source": [
    "## Section 4. Iterating over a collection Iterating over\n",
    "\n",
    "Virtually any collection can be iterated. Python will keep track of the elements in a collection so that each element is used only once. If a collection is unordered python will not necessarily give you the elements in the order that they were created. The ordering is actually related to how they are stored in memory and so it could change at any point. The main way to iterate through a collection is to use the infamous *for loop*. This will iteratively 'loop' through all elements of our collection, operating on them one at a time. where 'i' is the conventional iterator, try something like the following:\n",
    "\n",
    "```python\n",
    "primeList = [1,2,3,5,7,11,13]\n",
    "for i in primeList: \n",
    "    print(i)\n",
    "```"
   ]
  },
  {
   "cell_type": "markdown",
   "metadata": {},
   "source": [
    "However, we can use any iterator. What are YOUR favourite sandwich fillings?"
   ]
  },
  {
   "cell_type": "code",
   "execution_count": 4,
   "metadata": {
    "collapsed": false
   },
   "outputs": [
    {
     "name": "stdout",
     "output_type": "stream",
     "text": [
      "avacado sandwiches are delicious!\n",
      "falafel sandwiches are delicious!\n",
      "roast veg sandwiches are delicious!\n"
     ]
    }
   ],
   "source": [
    "myfavouritesandwiches=['avacado','falafel','roast veg'] # these two lines\n",
    "for filling in myfavouritesandwiches: #can be combined: see below\n",
    "    print(filling +' sandwiches are delicious!')"
   ]
  },
  {
   "cell_type": "markdown",
   "metadata": {},
   "source": [
    "There are two important things to note here: First, we *absolutely need* the semi colon at the end of the opening line. Secondly, note the indentation. In Python, whitespace is used to denote blocks (in other langauges, brackets or braces are used). ```def```, ```if```, ```elif```, ```else```, ```try```, ```except```, ```finally```, ```with```, ```for```, ```while```, and ```class``` all start blocks. Some of these we will see more of in this course. To end the indentation, we just outdent (i.e. go back to where we were before the block began). An ident can either be 4 spaces or a tab. People have very [heated](https://stackoverflow.com/questions/119562/tabs-versus-spaces-in-python-programming) discussions about [which to use](https://stackoverflow.blog/2017/06/15/developers-use-spaces-make-money-use-tabs/), but at this level, either is fine. Put simply: this indentation is how python manages what is inside a loop and what is after the loop."
   ]
  },
  {
   "cell_type": "markdown",
   "metadata": {},
   "source": [
    "Lets try another few examples, because this concept of a for loop is so critical:"
   ]
  },
  {
   "cell_type": "code",
   "execution_count": 5,
   "metadata": {
    "collapsed": false
   },
   "outputs": [
    {
     "name": "stdout",
     "output_type": "stream",
     "text": [
      "Hi! My name is\n",
      "what?\n",
      "Hi! My name is\n",
      "who?\n",
      "Hi! My name is\n",
      "Slim Shady\n"
     ]
    }
   ],
   "source": [
    "for name in ['what?','who?','Slim Shady']:\n",
    "    print('Hi! My name is')\n",
    "    print(name)"
   ]
  },
  {
   "cell_type": "markdown",
   "metadata": {},
   "source": [
    "Lets move on to the concept of a 'loop counter' (as discussed in Season 2, episode 13 of the Big Bang Theory, where Sheldon displays his friendship algorithm):"
   ]
  },
  {
   "cell_type": "code",
   "execution_count": 6,
   "metadata": {
    "collapsed": false
   },
   "outputs": [
    {
     "name": "stdout",
     "output_type": "stream",
     "text": [
      "avacado is filling number: 1\n",
      "falafel is filling number: 2\n",
      "roast veg is filling number: 3\n"
     ]
    }
   ],
   "source": [
    "counter=0\n",
    "myfavouritesandwiches=['avacado','falafel','roast veg'] # these two lines\n",
    "for filling in myfavouritesandwiches: #can be combined: see below\n",
    "    counter=counter+1\n",
    "    print(filling +' is filling number: '+str(counter))"
   ]
  },
  {
   "cell_type": "markdown",
   "metadata": {},
   "source": [
    "### 4.1. Iteration isn't always in sequence.\n",
    "\n",
    "Below, you will see iteration over sets, lists and dictionaries. Just have a look at some of the following. Sets and dictionaries are not guaranteed to come back in order, but all will be returned eventually. Notice how dictionaries are slightly different since they are not collections of elements, but pairs of elements."
   ]
  },
  {
   "cell_type": "code",
   "execution_count": 7,
   "metadata": {
    "collapsed": false
   },
   "outputs": [
    {
     "name": "stdout",
     "output_type": "stream",
     "text": [
      "List:\n",
      "avacado\n",
      "pesto\n",
      "tomato\n",
      "hummous\n",
      "pesto\n",
      "\n",
      "\n",
      "Set:\n",
      "avacado\n",
      "hummous\n",
      "pesto\n",
      "tomato\n"
     ]
    }
   ],
   "source": [
    "exList = ['avacado','pesto','tomato','hummous','pesto']\n",
    "exSet = set(exList) # notice how some dissapear? why?\n",
    "\n",
    "print(\"List:\")\n",
    "for i in exList: \n",
    "    print(i)\n",
    "print(\"\\n\")\n",
    "\n",
    "print(\"Set:\") # this just adds a space in between the results\n",
    "for i in exSet: \n",
    "    print(i)"
   ]
  },
  {
   "cell_type": "code",
   "execution_count": 8,
   "metadata": {
    "collapsed": false
   },
   "outputs": [
    {
     "name": "stdout",
     "output_type": "stream",
     "text": [
      "\n",
      "Dictionary [default, keys]:\n",
      "b\n",
      "e\n",
      "d\n",
      "c\n",
      "a\n",
      "\n",
      "Dictionary [values]:\n",
      "bluejay\n",
      "eider\n",
      "dipper\n",
      "coot\n",
      "albatross\n",
      "\n",
      "Dictionary [values] - by querying:\n",
      "bluejay\n",
      "eider\n",
      "dipper\n",
      "coot\n",
      "albatross\n",
      "\n",
      "Dictionary [items] - single query:\n",
      "('b', 'bluejay')\n",
      "('e', 'eider')\n",
      "('d', 'dipper')\n",
      "('c', 'coot')\n",
      "('a', 'albatross')\n",
      "\n",
      "Dictionary [items] - double query:\n",
      "b : bluejay\n",
      "e : eider\n",
      "d : dipper\n",
      "c : coot\n",
      "a : albatross\n"
     ]
    }
   ],
   "source": [
    "birds = {\"a\":\"albatross\",\"b\":\"bluejay\",\"c\":\"coot\",\"d\":\"dipper\",\"e\":\"eider\"}\n",
    "\n",
    "print(\"\\nDictionary [default, keys]:\")\n",
    "for i in birds:\n",
    "    print(i)\n",
    "    \n",
    "print(\"\\nDictionary [values]:\")\n",
    "for i in birds.values(): \n",
    "    print(i)\n",
    "\n",
    "print(\"\\nDictionary [values] - by querying:\")\n",
    "for i in birds:\n",
    "    print(birds[i])\n",
    "\n",
    "print(\"\\nDictionary [items] - single query:\")\n",
    "for i in birds.items(): \n",
    "    print(i)\n",
    "    \n",
    "print(\"\\nDictionary [items] - double query:\")\n",
    "for i,j in birds.items(): \n",
    "    print(i,\":\",j)"
   ]
  },
  {
   "cell_type": "markdown",
   "metadata": {},
   "source": [
    "# Section 5. Boolean logic and Control statements\n",
    "\n",
    "Python allows you to evaluate whether something is True or False, at least within it's expected logic (which is pretty intuitive most of the time). Once you know how to evaluate a statement you can use this evaluation to control the flow in a program. For example, we might say do something if a statement is true and then do something else if another statement applies (This is Boolean logic: a form of algebra in which all values are reduced to either TRUE or FALSE). Python uses two equals signs to mean 'test for equality'. This is not the only way things evaluate to true, but it is the most common one. Note that a single equals sign signals assignment, not a test for equality! Can you figure out why the following returns ```False```, ```True```, ```True```?"
   ]
  },
  {
   "cell_type": "code",
   "execution_count": 9,
   "metadata": {
    "collapsed": false
   },
   "outputs": [
    {
     "name": "stdout",
     "output_type": "stream",
     "text": [
      "False True True\n"
     ]
    }
   ],
   "source": [
    "var1 = 4\n",
    "var2 = \"Four\"\n",
    "var3 = 2*2\n",
    "\n",
    "print(var1 == var2, var1 == var3, var1 != var2)"
   ]
  },
  {
   "cell_type": "markdown",
   "metadata": {},
   "source": [
    "Another way that you can get a True or False statement is asking if an element is in a collection:"
   ]
  },
  {
   "cell_type": "code",
   "execution_count": 10,
   "metadata": {
    "collapsed": false
   },
   "outputs": [
    {
     "name": "stdout",
     "output_type": "stream",
     "text": [
      "True False\n",
      "\n",
      "\n",
      "Hurray! 3 is in our list\n"
     ]
    }
   ],
   "source": [
    "exList = ['sandwiches','pizza','pasta']\n",
    "print('pasta' in exList, 'cake' in exList)\n",
    "print('\\n')\n",
    "\n",
    "exList = [1,3,5]\n",
    "if 3 in exList:\n",
    "    print(\"Hurray! 3 is in our list\")\n",
    "else:\n",
    "    print (\"will we ever see this?\")\n"
   ]
  },
  {
   "cell_type": "markdown",
   "metadata": {},
   "source": [
    "### 5.1 Combing control and loop statements\n",
    "\n",
    "Now we also combine a control ('if') statement and a loop statement shown above. Note the double indentation! By combining multiple 'parent'/'child' indentation blocks and statements, we can effectively build a *very* powerful computer program."
   ]
  },
  {
   "cell_type": "code",
   "execution_count": 11,
   "metadata": {
    "collapsed": false
   },
   "outputs": [
    {
     "name": "stdout",
     "output_type": "stream",
     "text": [
      "1 is an odd number\n",
      "3 is an odd number\n",
      "6 is an even number\n",
      "7 is an odd number\n",
      "15 is an odd number\n",
      "533 is an odd number\n"
     ]
    }
   ],
   "source": [
    "exList = [1,3,6,7,15,533]\n",
    "\n",
    "for num in exList:   # For every item in our list\n",
    "    if num%2 == 1:   # If the remainder of dividing by two is one, then:\n",
    "        print(num, \"is an odd number\")\n",
    "    else:\n",
    "        print(num, \"is an even number\")"
   ]
  },
  {
   "cell_type": "markdown",
   "metadata": {},
   "source": [
    "We can also nest '```if```' statements in order to control the flow of our code more carefully: within the same indentation we can use mutiple '```elif```' statements as well as an else (to end the control statement - i.e. no more ```elif```s coming. Notice what is printed out for the number six in the statement below:"
   ]
  },
  {
   "cell_type": "code",
   "execution_count": 12,
   "metadata": {
    "collapsed": false
   },
   "outputs": [
    {
     "name": "stdout",
     "output_type": "stream",
     "text": [
      "1 is neither divisible by two nor three\n",
      "3 can be divided by three\n",
      "6 can be divided by two\n",
      "7 is neither divisible by two nor three\n",
      "15 can be divided by three\n",
      "533 is neither divisible by two nor three\n"
     ]
    }
   ],
   "source": [
    "exList = [1,3,6,7,15,533]\n",
    "\n",
    "for num in exList:\n",
    "    if num%2 == 0:\n",
    "        print(num, \"can be divided by two\")\n",
    "    elif num%3 == 0:\n",
    "        print(num, \"can be divided by three\")\n",
    "    else:\n",
    "        print(num, \"is neither divisible by two nor three\")"
   ]
  },
  {
   "cell_type": "markdown",
   "metadata": {},
   "source": [
    "## Optional Homework\n",
    "\n",
    "Can you nest another ```if``` statement within this to also print whether its a prime number? Alternatively, you could add a second Boolean test to the same ```if``` statement to make it a one-liner"
   ]
  },
  {
   "cell_type": "markdown",
   "metadata": {},
   "source": [
    "## Non-Optional Homework!\n",
    "\n",
    "Be sure to submit the Week Two Homework Questions via email by next 5pm on Tuesday!"
   ]
  }
 ],
 "metadata": {
  "kernelspec": {
   "display_name": "Python [Root]",
   "language": "python",
   "name": "Python [Root]"
  },
  "language_info": {
   "codemirror_mode": {
    "name": "ipython",
    "version": 3
   },
   "file_extension": ".py",
   "mimetype": "text/x-python",
   "name": "python",
   "nbconvert_exporter": "python",
   "pygments_lexer": "ipython3",
   "version": "3.5.2"
  }
 },
 "nbformat": 4,
 "nbformat_minor": 2
}
