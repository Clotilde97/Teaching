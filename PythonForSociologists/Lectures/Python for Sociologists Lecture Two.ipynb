{
 "cells": [
  {
   "cell_type": "markdown",
   "metadata": {},
   "source": [
    "#  Python for Sociologists: Lecture Two"
   ]
  },
  {
   "cell_type": "markdown",
   "metadata": {},
   "source": [
    "## Recap from last week\n",
    "\n",
    "Lets pick up where we left off last week with a reminder of how dictionarys work to get warmed up. Add in the other Weasley sibblings (Charlie, Percy, Bill and Ginny) and query the Weasley family:\n",
    "\n",
    "```python\n",
    "nonmuggles = {\n",
    "    \"Potter\": \"Harry\",\n",
    "    \"Granger\": \"Hermoine\",\n",
    "    \"Weasley\": [\"Fred\",\"George\",\"Ron\"],\n",
    "}\n",
    "```"
   ]
  },
  {
   "cell_type": "code",
   "execution_count": 2,
   "metadata": {},
   "outputs": [
    {
     "name": "stdout",
     "output_type": "stream",
     "text": [
      "['Fred', 'George', 'Ron']\n"
     ]
    }
   ],
   "source": []
  },
  {
   "cell_type": "code",
   "execution_count": null,
   "metadata": {
    "collapsed": true
   },
   "outputs": [],
   "source": []
  }
 ],
 "metadata": {
  "kernelspec": {
   "display_name": "Python 3",
   "language": "python",
   "name": "python3"
  },
  "language_info": {
   "codemirror_mode": {
    "name": "ipython",
    "version": 3
   },
   "file_extension": ".py",
   "mimetype": "text/x-python",
   "name": "python",
   "nbconvert_exporter": "python",
   "pygments_lexer": "ipython3",
   "version": "3.6.2"
  }
 },
 "nbformat": 4,
 "nbformat_minor": 2
}
