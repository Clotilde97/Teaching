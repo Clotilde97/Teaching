{
 "cells": [
  {
   "cell_type": "markdown",
   "metadata": {},
   "source": [
    "# Python for Sociologists: Lecture Four\n",
    "\n",
    "Congratulations on making it this far! As a reward, we're now going to begin to operate on real data. Lets have a quick reminder of what we learnt last week:\n",
    "\n",
    "1. List comprehensions and dictionary comprehensions\n",
    "2. Try/except: Careful where you place your code!\n",
    "3. Pseudocode: Focus on logic, not syntax"
   ]
  },
  {
   "cell_type": "code",
   "execution_count": 1,
   "metadata": {
    "collapsed": false
   },
   "outputs": [
    {
     "name": "stdout",
     "output_type": "stream",
     "text": [
      "[2, 4, 6, 8, 10]\n",
      "{'negative 1': -1, 'negative 3': -3, 'negative 5': -5, 'negative 4': -4, 'negative 2': -2}\n"
     ]
    }
   ],
   "source": [
    "list1 = [i*2 for i in range(1,6)] \n",
    "dic1 = {\"negative \"+str(i) : -i for i in range(1,6)}#non-sequential!\n",
    "\n",
    "print(list1)\n",
    "print(dic1)"
   ]
  },
  {
   "cell_type": "markdown",
   "metadata": {},
   "source": [
    "## Section 9: Functions II. \n",
    "\n",
    "Functions are most useful when we want to solve a repetitive task efficiently. However, there is a challenge: how do we make the functions general enough, but not too general? So far, we havent seen functions take or return more than one input or output.\n",
    "```python\n",
    "def two_inputs (input1, input2):\n",
    "    return input1 + input2\n",
    "\n",
    "print('god damn, i love '+two_inputs(\"cheese\",\"burgers\"))\n",
    "```\n",
    "\n",
    "def two_inputs(input1, input2 = \"burger\"):\n",
    "    return input1 + input2\n",
    "\n",
    "print(two_inputs(\"cheese\"))\n",
    "Python doesn't like it, however, when the first argument has a default and the second one doesn't. You pass it a single argument and it will throw an error. See for yourself:"
   ]
  },
  {
   "cell_type": "code",
   "execution_count": 2,
   "metadata": {
    "collapsed": false
   },
   "outputs": [
    {
     "name": "stdout",
     "output_type": "stream",
     "text": [
      "geez, i sure do love spaghetti Bolognese\n"
     ]
    }
   ],
   "source": [
    "def two_inputs (input1, input2):\n",
    "    return input1 + input2\n",
    "\n",
    "print('geez, i sure do love '+two_inputs(\"spaghetti \",\"Bolognese\"))\n"
   ]
  },
  {
   "cell_type": "markdown",
   "metadata": {},
   "source": [
    "You can also declare default function inputs, for example like:\n",
    "\n",
    "```python\n",
    "def two_inputs(input1, input2 = \"burger\"):\n",
    "    return input1 + input2\n",
    "\n",
    "print(two_inputs(\"cheese\"))\n",
    "```\n",
    "However, Python doesn't like it, however, when the first argument has a default and the second one doesn't. "
   ]
  },
  {
   "cell_type": "markdown",
   "metadata": {},
   "source": [
    "## Section 10: Reading Files"
   ]
  },
  {
   "cell_type": "markdown",
   "metadata": {},
   "source": [
    "File manipulation is central to the management of data and thus to data analysis. Opening files in python is relatively straightforward. To open a file in python we create a 'file handler'. There are a couple ways of doing this, we will show three below. Most involve the basic format of:\n",
    "\n",
    "```python\n",
    "filein/fileout = open(\"PATH_TO_FILE\",'r'/'w'/'a')\n",
    "```"
   ]
  },
  {
   "cell_type": "code",
   "execution_count": 3,
   "metadata": {
    "collapsed": false
   },
   "outputs": [
    {
     "name": "stdout",
     "output_type": "stream",
     "text": [
      "# Python for Sociologists\n",
      "---\n",
      "\n",
      "This is the repository for teaching Python for Sociologists at the Department of Sociology, University of Oxford. It contains all of the information that you will need about the course, as there will be no print-outs. Please check back here on a regular basis!\n"
     ]
    }
   ],
   "source": [
    "filein = open(\"README.md\",'r')\n",
    "\n",
    "print(filein.read())\n",
    "\n",
    "filein.close()"
   ]
  },
  {
   "cell_type": "markdown",
   "metadata": {},
   "source": [
    "```filein.close()``` closes the file after the operations are complete."
   ]
  },
  {
   "cell_type": "code",
   "execution_count": 4,
   "metadata": {
    "collapsed": false
   },
   "outputs": [
    {
     "name": "stdout",
     "output_type": "stream",
     "text": [
      "# Python for Sociologists\n",
      "\n",
      "---\n",
      "\n",
      "\n",
      "\n",
      "This is the repository for teaching Python for Sociologists at the Department of Sociology, University of Oxford. It contains all of the information that you will need about the course, as there will be no print-outs. Please check back here on a regular basis!\n"
     ]
    }
   ],
   "source": [
    "# Open a file and read it line by line:\n",
    "filein = open(\"README.md\",'r')\n",
    "\n",
    "for i in filein: \n",
    "    print(i)\n",
    "\n",
    "filein.close()"
   ]
  },
  {
   "cell_type": "markdown",
   "metadata": {},
   "source": [
    "Notice the difference? When the file reads a line, it breaks at the new line character, but it doesn't remove the character. One way to get around this is to ```strip``` whitespace, as we learnt in Lecture One:\n",
    "\n",
    "```python\n",
    "for i in filein: \n",
    "    print(i.strip()) \n",
    "```\n",
    "\n",
    "One way to guarantee that the file closes is to open it in the following way:\n",
    "\n",
    "```python\n",
    "with open(\"README.md\") as filein:\n",
    "    for line in filein:\n",
    "        print(line.strip())\n",
    "```"
   ]
  },
  {
   "cell_type": "markdown",
   "metadata": {},
   "source": [
    "## Section 11: Writing Files"
   ]
  },
  {
   "cell_type": "markdown",
   "metadata": {},
   "source": [
    "Writing files is very similar to how you read them. However, you need notice the 'w' (for 'write' parameter in the open() function. Lets save this nursery rhyme to a text file, and then read it in and print it line by line:"
   ]
  },
  {
   "cell_type": "code",
   "execution_count": 5,
   "metadata": {
    "collapsed": false
   },
   "outputs": [
    {
     "name": "stdout",
     "output_type": "stream",
     "text": [
      "Hey diddle diddle,\n",
      "The cat and the fiddle,\n",
      "The cow jumped over the moon.\n",
      "The little dog laughed,\n",
      "To see such a sight,\n",
      "And the dish ran away with the spoon\n"
     ]
    }
   ],
   "source": [
    "fileout = open(\"nurseryrhyme.txt\",'w')\n",
    "fileout.write('Hey diddle diddle,\\n The cat and the fiddle,\\n The cow jumped over the moon.\\n The little dog laughed,\\n To see such a sight,\\nAnd the dish ran away with the spoon') \n",
    "fileout.close()\n",
    "\n",
    "with open(\"nurseryrhyme.txt\") as filein:\n",
    "    for line in filein:\n",
    "        print(line.strip())"
   ]
  },
  {
   "cell_type": "markdown",
   "metadata": {},
   "source": [
    "Or you can write multiple times, adding to the end of the file\n",
    "```python\n",
    "with open(\"newer_file.txt\",'w') as fileout:\n",
    "    for line in range(5):\n",
    "        fileout.write('This is line %s\\n' % (line+1))\n",
    "```"
   ]
  },
  {
   "cell_type": "markdown",
   "metadata": {},
   "source": [
    "### Exercise in class\n",
    "\n",
    "You should write your favourite nursery rhyme to a file, and then print it out to console!"
   ]
  },
  {
   "cell_type": "markdown",
   "metadata": {},
   "source": [
    "## Section 12. Programming outside Jupyter \n",
    "\n",
    "There are two main options when it comes to writing code outside of Jupyter notebooks. \n",
    "\n",
    "### 12.1 Integrated Development Environments.\n",
    "\n",
    "IDEs are coding tools which allow you to write/test/debug your code. They offer features such as completion/insight by highlighting, resource management, debugging tools, etc. They are therefore extremely useful for development. Some of the most commonly used ones are:\n",
    "\n",
    "1. Spyder: bundled with the Anaconda distribution, built specifically for data science. Interface similar to RStudio/MATLAB\n",
    "2. PyCharm: also has support for JavaScript, HTML/CSS, Angular JS, Node.js, etc. Full git integration.\n",
    "3. Rodeo: *very* similar to RStudio: divided into text editor, console, environment plot/libraries/files.\n",
    "\n",
    "### 12.2 Text editors\n",
    "\n",
    "Another option is to use a text editor and then execute the .py files in the command prompt/terminal. This comes in two steps:\n",
    "\n",
    "1. Edit code in a text editor (*strongly recommend Atom*)\n",
    "2. Open command window/terminal (Start > Run > \"cmd\" on Windows, Terminal on Mac/Liunux)\n",
    "\n",
    "### 12.3 Text editors\n",
    "\n",
    "You can also use the command window/terminal to prototype code on the fly:\n",
    "\n",
    "    > python"
   ]
  },
  {
   "cell_type": "markdown",
   "metadata": {},
   "source": [
    "## Optional-Homework\n",
    "\n",
    "Set up a text editor (try atom) for python development. Check out all of the plugins and features that you can! It'll make your life much easier in the long run if you want to keep at python development.\n",
    "\n",
    "## Non-Optional Homework\n",
    "\n",
    "Be sure to submit the Week Four Homework Questions via email by next 5pm on Tuesday!"
   ]
  },
  {
   "cell_type": "markdown",
   "metadata": {},
   "source": [
    "## Section 13. Congratulations!\n",
    "\n",
    "Just a quick congratulations for you sticking with this course! You're now ready to explore all of the exciting data scientific topics that Python can be applied for, beit machine learning, network science or natural language processing. Good luck with the rest of your adventures!"
   ]
  }
 ],
 "metadata": {
  "kernelspec": {
   "display_name": "Python [Root]",
   "language": "python",
   "name": "Python [Root]"
  },
  "language_info": {
   "codemirror_mode": {
    "name": "ipython",
    "version": 3
   },
   "file_extension": ".py",
   "mimetype": "text/x-python",
   "name": "python",
   "nbconvert_exporter": "python",
   "pygments_lexer": "ipython3",
   "version": "3.5.2"
  }
 },
 "nbformat": 4,
 "nbformat_minor": 0
}
